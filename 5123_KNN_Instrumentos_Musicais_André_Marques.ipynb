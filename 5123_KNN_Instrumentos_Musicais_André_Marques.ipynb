{
  "nbformat": 4,
  "nbformat_minor": 0,
  "metadata": {
    "colab": {
      "name": "5123_KNN_Instrumentos_Musicais_André_Marques.ipynb",
      "provenance": [],
      "collapsed_sections": [],
      "authorship_tag": "ABX9TyN3iz4hisYC9iIHTeFqV36d",
      "include_colab_link": true
    },
    "kernelspec": {
      "name": "python3",
      "display_name": "Python 3"
    },
    "language_info": {
      "name": "python"
    }
  },
  "cells": [
    {
      "cell_type": "markdown",
      "metadata": {
        "id": "view-in-github",
        "colab_type": "text"
      },
      "source": [
        "<a href=\"https://colab.research.google.com/github/65-1157/Aplica-o_NLP_instrumentos_musicais/blob/main/5123_KNN_Instrumentos_Musicais_Andr%C3%A9_Marques.ipynb\" target=\"_parent\"><img src=\"https://colab.research.google.com/assets/colab-badge.svg\" alt=\"Open In Colab\"/></a>"
      ]
    },
    {
      "cell_type": "markdown",
      "metadata": {
        "id": "uBaUL2Wfqh6F"
      },
      "source": [
        "1_Preparação_ferramentas"
      ]
    },
    {
      "cell_type": "markdown",
      "metadata": {
        "id": "bnEw3551gCCX"
      },
      "source": [
        "\n",
        "\n",
        "Importação_bibliotecas\n",
        "\n",
        "\n",
        "\n"
      ]
    },
    {
      "cell_type": "code",
      "metadata": {
        "id": "AyDH83OPSdfC"
      },
      "source": [
        "import numpy as np\n",
        "import itertools\n",
        "# System\n",
        "import os, fnmatch\n",
        "# visualização\n",
        "import seaborn \n",
        "import matplotlib.pyplot as plt\n",
        "from IPython.core.display import HTML, display\n",
        "# Aprendizado_máquina\n",
        "from sklearn.preprocessing import LabelEncoder\n",
        "from sklearn.preprocessing import StandardScaler\n",
        "from sklearn.model_selection import StratifiedShuffleSplit\n",
        "from sklearn.neighbors import KNeighborsClassifier\n",
        "from sklearn.metrics import recall_score, precision_score, accuracy_score\n",
        "from sklearn.metrics import confusion_matrix, f1_score, classification_report\n",
        "# Dados_aleatórios\n",
        "from numpy.random import seed\n",
        "seed(1)\n",
        "# biblioteca_audio\n",
        "import librosa.display, librosa"
      ],
      "execution_count": null,
      "outputs": []
    },
    {
      "cell_type": "code",
      "metadata": {
        "id": "soe43g9-ip_T"
      },
      "source": [
        "# gerenciamento_alarmes\n",
        "import warnings\n",
        "warnings.filterwarnings('ignore')"
      ],
      "execution_count": null,
      "outputs": []
    },
    {
      "cell_type": "code",
      "metadata": {
        "id": "xtfPSOLESoDU"
      },
      "source": [
        "# exibição_website\n",
        "def show_web(url):\n",
        "    html_code='<center><iframe src=\"%s\" width=\"800\" height=\"600\" frameborder=\"0\" marginheight=\"0\" marginwidth=\"0\">Loading...</iframe></center>' \\\n",
        "\t\t% (url)\n",
        "    display(HTML(html_code))"
      ],
      "execution_count": null,
      "outputs": []
    },
    {
      "cell_type": "markdown",
      "metadata": {
        "id": "vk9Zy5HWqsR2"
      },
      "source": [
        "2_Dataset_Detalhes_Gerais"
      ]
    },
    {
      "cell_type": "code",
      "metadata": {
        "colab": {
          "base_uri": "https://localhost:8080/",
          "height": 621
        },
        "id": "dHDpOT_7StNB",
        "outputId": "c1e32a76-6959-4f54-b1e4-08798596c4ea"
      },
      "source": [
        "# informação_geral_dataset\n",
        "show_web(\"https://www.philharmonia.co.uk/resources/sound-samples/\")\n"
      ],
      "execution_count": null,
      "outputs": [
        {
          "output_type": "display_data",
          "data": {
            "text/html": [
              "<center><iframe src=\"https://www.philharmonia.co.uk/resources/sound-samples/\" width=\"800\" height=\"600\" frameborder=\"0\" marginheight=\"0\" marginwidth=\"0\">Loading...</iframe></center>"
            ],
            "text/plain": [
              "<IPython.core.display.HTML object>"
            ]
          },
          "metadata": {
            "tags": []
          }
        }
      ]
    },
    {
      "cell_type": "markdown",
      "metadata": {
        "id": "25siw3B7gTma"
      },
      "source": [
        "Arquivo_dataset_Phillarmonica"
      ]
    },
    {
      "cell_type": "code",
      "metadata": {
        "colab": {
          "base_uri": "https://localhost:8080/"
        },
        "id": "1lYifEzeSzA_",
        "outputId": "8b738b57-1313-4a8c-ca94-66661c336f31"
      },
      "source": [
        "!git clone https://github.com/GuitarsAI/BasicsMusicalInstrumClassifi\n",
        "!unzip ./BasicsMusicalInstrumClassifi/audio/*.zip -d ./BasicsMusicalInstrumClassifi/audio\n",
        "path=\"./BasicsMusicalInstrumClassifi/audio/london_phill_dataset_multi/\"\n",
        "os.environ['TF_CPP_MIN_LOG_LEVEL'] = '3'\n",
        "# pegar_audios\n",
        "files = []\n",
        "for root, dirnames, filenames in os.walk(path):\n",
        "    for filename in fnmatch.filter(filenames, '*.mp3'):\n",
        "        files.append(os.path.join(root, filename))\n",
        "\n",
        "print(\"encontrados %d audio_arquivos: %s\"%(len(files),path))"
      ],
      "execution_count": null,
      "outputs": [
        {
          "output_type": "stream",
          "text": [
            "fatal: destination path 'BasicsMusicalInstrumClassifi' already exists and is not an empty directory.\n",
            "Archive:  ./BasicsMusicalInstrumClassifi/audio/london_phill_dataset_multi.zip\n",
            "replace ./BasicsMusicalInstrumClassifi/audio/london_phill_dataset_multi/mfcc_feature_vectors.pl? [y]es, [n]o, [A]ll, [N]one, [r]ename: y\n",
            "  inflating: ./BasicsMusicalInstrumClassifi/audio/london_phill_dataset_multi/mfcc_feature_vectors.pl  \n",
            "replace ./BasicsMusicalInstrumClassifi/audio/london_phill_dataset_multi/max_length.pl? [y]es, [n]o, [A]ll, [N]one, [r]ename: N\n",
            "encontrados 600 audio_arquivos: ./BasicsMusicalInstrumClassifi/audio/london_phill_dataset_multi/\n"
          ],
          "name": "stdout"
        }
      ]
    },
    {
      "cell_type": "markdown",
      "metadata": {
        "id": "tP1nMrwujN6y"
      },
      "source": [
        "Carregar_nomes"
      ]
    },
    {
      "cell_type": "code",
      "metadata": {
        "id": "fPvmKlnIS682"
      },
      "source": [
        "# Carregamento_identificação\n",
        "labels =[]\n",
        "classes=['flute','sax','oboe', 'cello','trumpet','viola']\n",
        "color_dict={'cello':'blue', 'flute':'red', 'oboe':'green', 'trumpet':'black', 'sax':'magenta', 'viola':'yellow'}\n",
        "color_list=[]\n",
        "for filename in files:\n",
        "    for name in classes:\n",
        "        if fnmatch.fnmatchcase(filename, '*'+name+'*'):\n",
        "            labels.append(name)\n",
        "            color_list.append(color_dict[name])\n",
        "            break\n",
        "    else:\n",
        "        labels.append('other')"
      ],
      "execution_count": null,
      "outputs": []
    },
    {
      "cell_type": "markdown",
      "metadata": {
        "id": "-qd7LKklggUF"
      },
      "source": [
        "Atribuir_rótulos_labels"
      ]
    },
    {
      "cell_type": "code",
      "metadata": {
        "colab": {
          "base_uri": "https://localhost:8080/"
        },
        "id": "MPUHZe6lW13U",
        "outputId": "a79abf8d-2f91-44e4-8d3c-1dd72515f235"
      },
      "source": [
        "# Alocação_labels_encoders\n",
        "labelencoder = LabelEncoder()\n",
        "labelencoder.fit(labels)\n",
        "print(len(labelencoder.classes_), \"classes:\", \", \".join(list(labelencoder.classes_)))\n",
        "classes_num = labelencoder.transform(labels)"
      ],
      "execution_count": null,
      "outputs": [
        {
          "output_type": "stream",
          "text": [
            "6 classes: cello, flute, oboe, sax, trumpet, viola\n"
          ],
          "name": "stdout"
        }
      ]
    },
    {
      "cell_type": "markdown",
      "metadata": {
        "id": "SGXYre-7hHFS"
      },
      "source": [
        "Parâmetros_processamento"
      ]
    },
    {
      "cell_type": "code",
      "metadata": {
        "id": "AKQWXdq3W6st"
      },
      "source": [
        "# Parâmetros\n",
        "fs = 96000       # frequência_amostragem\n",
        "n_fft = 2048      # janela_FFT_será_alterado\n",
        "hop_length = 512  # Hop_será_alterado\n",
        "n_mels = 128       # MEL bands_inalterado\n",
        "n_mfcc = 13        # MFCCs_inalterado\n",
        "\n",
        "# Geral_Aprendizado_Máquina\n",
        "testset_size = 0.25 # Limite_corte_teste_treino\n",
        "n_neighbors=1       # qte_vizinhos_será_alterado"
      ],
      "execution_count": null,
      "outputs": []
    },
    {
      "cell_type": "markdown",
      "metadata": {
        "id": "58DKwZ2shVGL"
      },
      "source": [
        "Funções_cálculo"
      ]
    },
    {
      "cell_type": "code",
      "metadata": {
        "id": "RZFiBo9hXAaG"
      },
      "source": [
        "# Cálculo: MFCC \n",
        "def get_features(y, sr=fs):\n",
        "    S = librosa.feature.melspectrogram(y, sr=fs, n_mels=n_mels)\n",
        "    mfcc = librosa.feature.mfcc(S=librosa.power_to_db(S), n_mfcc=n_mfcc)\n",
        "    feature_vector = np.mean(mfcc,1)\n",
        "    #feature_vector = (feature_vector-np.mean(feature_vector))/np.std(feature_vector)\n",
        "    return feature_vector"
      ],
      "execution_count": null,
      "outputs": []
    },
    {
      "cell_type": "code",
      "metadata": {
        "colab": {
          "base_uri": "https://localhost:8080/"
        },
        "id": "jyMmtHu3XMtg",
        "outputId": "7063e798-f668-45f1-c2f8-bbfbc80a0acb"
      },
      "source": [
        "# Operação_dados_cálculo_features_feature vectors\n",
        "feature_vectors = []\n",
        "sound_paths = []\n",
        "for i,f in enumerate(files):\n",
        "    print (\"colhido %d de %d = %s\"%(i+1, len(files), f))\n",
        "    try:\n",
        "        y, sr = librosa.load(f, sr=fs)\n",
        "        y/=y.max() # normalização pelo valor máximo (razão_será_<1)\n",
        "        if len(y) < 2:\n",
        "            print(\"Erro_carregamento %s\" % f)\n",
        "            continue\n",
        "        feat = get_features(y, sr)\n",
        "        feature_vectors.append(feat)\n",
        "        sound_paths.append(f)\n",
        "    except Exception as e:\n",
        "        print(\"Erro_carregamento %s. Error: %s\" % (f,e))\n",
        "        \n",
        "print(\"Cálculos %d feature_vectors\"%len(feature_vectors))"
      ],
      "execution_count": null,
      "outputs": [
        {
          "output_type": "stream",
          "text": [
            "colhido 1 de 600 = ./BasicsMusicalInstrumClassifi/audio/london_phill_dataset_multi/flute/flute_Gs6_05_forte_normal.mp3\n",
            "colhido 2 de 600 = ./BasicsMusicalInstrumClassifi/audio/london_phill_dataset_multi/flute/flute_A5_1_forte_normal.mp3\n",
            "colhido 3 de 600 = ./BasicsMusicalInstrumClassifi/audio/london_phill_dataset_multi/flute/flute_Gs4_025_pianissimo_normal.mp3\n",
            "colhido 4 de 600 = ./BasicsMusicalInstrumClassifi/audio/london_phill_dataset_multi/flute/flute_A4_15_pianissimo_normal.mp3\n",
            "colhido 5 de 600 = ./BasicsMusicalInstrumClassifi/audio/london_phill_dataset_multi/flute/flute_A5_05_pianissimo_normal.mp3\n",
            "colhido 6 de 600 = ./BasicsMusicalInstrumClassifi/audio/london_phill_dataset_multi/flute/flute_Gs5_05_mezzo-piano_normal.mp3\n",
            "colhido 7 de 600 = ./BasicsMusicalInstrumClassifi/audio/london_phill_dataset_multi/flute/flute_Gs4_025_mezzo-piano_normal.mp3\n",
            "colhido 8 de 600 = ./BasicsMusicalInstrumClassifi/audio/london_phill_dataset_multi/flute/flute_A5_025_pianissimo_normal.mp3\n",
            "colhido 9 de 600 = ./BasicsMusicalInstrumClassifi/audio/london_phill_dataset_multi/flute/flute_Gs6_15_pianissimo_normal.mp3\n",
            "colhido 10 de 600 = ./BasicsMusicalInstrumClassifi/audio/london_phill_dataset_multi/flute/flute_A6_1_piano_normal.mp3\n",
            "colhido 11 de 600 = ./BasicsMusicalInstrumClassifi/audio/london_phill_dataset_multi/flute/flute_Gs5_1_piano_normal.mp3\n",
            "colhido 12 de 600 = ./BasicsMusicalInstrumClassifi/audio/london_phill_dataset_multi/flute/flute_A4_15_mezzo-piano_normal.mp3\n",
            "colhido 13 de 600 = ./BasicsMusicalInstrumClassifi/audio/london_phill_dataset_multi/flute/flute_A4_025_mezzo-forte_normal.mp3\n",
            "colhido 14 de 600 = ./BasicsMusicalInstrumClassifi/audio/london_phill_dataset_multi/flute/flute_A5_15_mezzo-forte_normal.mp3\n",
            "colhido 15 de 600 = ./BasicsMusicalInstrumClassifi/audio/london_phill_dataset_multi/flute/flute_Gs5_1_pianissimo_normal.mp3\n",
            "colhido 16 de 600 = ./BasicsMusicalInstrumClassifi/audio/london_phill_dataset_multi/flute/flute_Gs5_1_mezzo-piano_normal.mp3\n",
            "colhido 17 de 600 = ./BasicsMusicalInstrumClassifi/audio/london_phill_dataset_multi/flute/flute_Gs5_15_piano_normal.mp3\n",
            "colhido 18 de 600 = ./BasicsMusicalInstrumClassifi/audio/london_phill_dataset_multi/flute/flute_A5_025_mezzo-piano_normal.mp3\n",
            "colhido 19 de 600 = ./BasicsMusicalInstrumClassifi/audio/london_phill_dataset_multi/flute/flute_A4_15_mezzo-forte_normal.mp3\n",
            "colhido 20 de 600 = ./BasicsMusicalInstrumClassifi/audio/london_phill_dataset_multi/flute/flute_Gs4_05_mezzo-forte_normal.mp3\n",
            "colhido 21 de 600 = ./BasicsMusicalInstrumClassifi/audio/london_phill_dataset_multi/flute/flute_A6_1_mezzo-forte_normal.mp3\n",
            "colhido 22 de 600 = ./BasicsMusicalInstrumClassifi/audio/london_phill_dataset_multi/flute/flute_Gs6_05_mezzo-forte_normal.mp3\n",
            "colhido 23 de 600 = ./BasicsMusicalInstrumClassifi/audio/london_phill_dataset_multi/flute/flute_Gs4_15_forte_normal.mp3\n",
            "colhido 24 de 600 = ./BasicsMusicalInstrumClassifi/audio/london_phill_dataset_multi/flute/flute_A6_05_forte_normal.mp3\n",
            "colhido 25 de 600 = ./BasicsMusicalInstrumClassifi/audio/london_phill_dataset_multi/flute/flute_A5_1_pianissimo_normal.mp3\n",
            "colhido 26 de 600 = ./BasicsMusicalInstrumClassifi/audio/london_phill_dataset_multi/flute/flute_A5_025_forte_normal.mp3\n",
            "colhido 27 de 600 = ./BasicsMusicalInstrumClassifi/audio/london_phill_dataset_multi/flute/flute_Gs6_025_piano_normal.mp3\n",
            "colhido 28 de 600 = ./BasicsMusicalInstrumClassifi/audio/london_phill_dataset_multi/flute/flute_A4_05_forte_normal.mp3\n",
            "colhido 29 de 600 = ./BasicsMusicalInstrumClassifi/audio/london_phill_dataset_multi/flute/flute_Gs5_15_forte_normal.mp3\n",
            "colhido 30 de 600 = ./BasicsMusicalInstrumClassifi/audio/london_phill_dataset_multi/flute/flute_Gs6_05_pianissimo_normal.mp3\n",
            "colhido 31 de 600 = ./BasicsMusicalInstrumClassifi/audio/london_phill_dataset_multi/flute/flute_Gs4_05_piano_normal.mp3\n",
            "colhido 32 de 600 = ./BasicsMusicalInstrumClassifi/audio/london_phill_dataset_multi/flute/flute_Gs5_025_mezzo-forte_normal.mp3\n",
            "colhido 33 de 600 = ./BasicsMusicalInstrumClassifi/audio/london_phill_dataset_multi/flute/flute_Gs5_1_mezzo-forte_normal.mp3\n",
            "colhido 34 de 600 = ./BasicsMusicalInstrumClassifi/audio/london_phill_dataset_multi/flute/flute_A5_05_mezzo-piano_normal.mp3\n",
            "colhido 35 de 600 = ./BasicsMusicalInstrumClassifi/audio/london_phill_dataset_multi/flute/flute_A5_05_mezzo-forte_normal.mp3\n",
            "colhido 36 de 600 = ./BasicsMusicalInstrumClassifi/audio/london_phill_dataset_multi/flute/flute_A6_1_forte_normal.mp3\n",
            "colhido 37 de 600 = ./BasicsMusicalInstrumClassifi/audio/london_phill_dataset_multi/flute/flute_A6_05_piano_normal.mp3\n",
            "colhido 38 de 600 = ./BasicsMusicalInstrumClassifi/audio/london_phill_dataset_multi/flute/flute_Gs4_05_forte_normal.mp3\n",
            "colhido 39 de 600 = ./BasicsMusicalInstrumClassifi/audio/london_phill_dataset_multi/flute/flute_A4_025_pianissimo_normal.mp3\n",
            "colhido 40 de 600 = ./BasicsMusicalInstrumClassifi/audio/london_phill_dataset_multi/flute/flute_A5_1_mezzo-piano_normal.mp3\n",
            "colhido 41 de 600 = ./BasicsMusicalInstrumClassifi/audio/london_phill_dataset_multi/flute/flute_A4_025_forte_normal.mp3\n",
            "colhido 42 de 600 = ./BasicsMusicalInstrumClassifi/audio/london_phill_dataset_multi/flute/flute_Gs5_05_mezzo-forte_normal.mp3\n",
            "colhido 43 de 600 = ./BasicsMusicalInstrumClassifi/audio/london_phill_dataset_multi/flute/flute_Gs6_025_forte_normal.mp3\n",
            "colhido 44 de 600 = ./BasicsMusicalInstrumClassifi/audio/london_phill_dataset_multi/flute/flute_A5_1_piano_normal.mp3\n",
            "colhido 45 de 600 = ./BasicsMusicalInstrumClassifi/audio/london_phill_dataset_multi/flute/flute_A4_1_pianissimo_normal.mp3\n",
            "colhido 46 de 600 = ./BasicsMusicalInstrumClassifi/audio/london_phill_dataset_multi/flute/flute_A5_05_forte_normal.mp3\n",
            "colhido 47 de 600 = ./BasicsMusicalInstrumClassifi/audio/london_phill_dataset_multi/flute/flute_A4_15_forte_normal.mp3\n",
            "colhido 48 de 600 = ./BasicsMusicalInstrumClassifi/audio/london_phill_dataset_multi/flute/flute_A4_025_piano_normal.mp3\n",
            "colhido 49 de 600 = ./BasicsMusicalInstrumClassifi/audio/london_phill_dataset_multi/flute/flute_A5_15_piano_normal.mp3\n",
            "colhido 50 de 600 = ./BasicsMusicalInstrumClassifi/audio/london_phill_dataset_multi/flute/flute_A4_05_mezzo-forte_normal.mp3\n",
            "colhido 51 de 600 = ./BasicsMusicalInstrumClassifi/audio/london_phill_dataset_multi/flute/flute_Gs5_05_pianissimo_normal.mp3\n",
            "colhido 52 de 600 = ./BasicsMusicalInstrumClassifi/audio/london_phill_dataset_multi/flute/flute_A6_05_mezzo-forte_normal.mp3\n",
            "colhido 53 de 600 = ./BasicsMusicalInstrumClassifi/audio/london_phill_dataset_multi/flute/flute_Gs4_15_mezzo-forte_normal.mp3\n",
            "colhido 54 de 600 = ./BasicsMusicalInstrumClassifi/audio/london_phill_dataset_multi/flute/flute_Gs6_1_mezzo-forte_normal.mp3\n",
            "colhido 55 de 600 = ./BasicsMusicalInstrumClassifi/audio/london_phill_dataset_multi/flute/flute_Gs6_15_forte_normal.mp3\n",
            "colhido 56 de 600 = ./BasicsMusicalInstrumClassifi/audio/london_phill_dataset_multi/flute/flute_Gs4_05_mezzo-piano_normal.mp3\n",
            "colhido 57 de 600 = ./BasicsMusicalInstrumClassifi/audio/london_phill_dataset_multi/flute/flute_A6_1_fortissimo_minor-trill.mp3\n",
            "colhido 58 de 600 = ./BasicsMusicalInstrumClassifi/audio/london_phill_dataset_multi/flute/flute_Gs6_1_forte_normal.mp3\n",
            "colhido 59 de 600 = ./BasicsMusicalInstrumClassifi/audio/london_phill_dataset_multi/flute/flute_Gs5_05_forte_normal.mp3\n",
            "colhido 60 de 600 = ./BasicsMusicalInstrumClassifi/audio/london_phill_dataset_multi/flute/flute_A4_1_forte_normal.mp3\n",
            "colhido 61 de 600 = ./BasicsMusicalInstrumClassifi/audio/london_phill_dataset_multi/flute/flute_A5_025_piano_normal.mp3\n",
            "colhido 62 de 600 = ./BasicsMusicalInstrumClassifi/audio/london_phill_dataset_multi/flute/flute_A4_05_mezzo-piano_normal.mp3\n",
            "colhido 63 de 600 = ./BasicsMusicalInstrumClassifi/audio/london_phill_dataset_multi/flute/flute_Gs5_025_mezzo-piano_normal.mp3\n",
            "colhido 64 de 600 = ./BasicsMusicalInstrumClassifi/audio/london_phill_dataset_multi/flute/flute_Gs6_05_piano_normal.mp3\n",
            "colhido 65 de 600 = ./BasicsMusicalInstrumClassifi/audio/london_phill_dataset_multi/flute/flute_A5_15_forte_normal.mp3\n",
            "colhido 66 de 600 = ./BasicsMusicalInstrumClassifi/audio/london_phill_dataset_multi/flute/flute_Gs4_15_piano_normal.mp3\n",
            "colhido 67 de 600 = ./BasicsMusicalInstrumClassifi/audio/london_phill_dataset_multi/flute/flute_A5_025_mezzo-forte_normal.mp3\n",
            "colhido 68 de 600 = ./BasicsMusicalInstrumClassifi/audio/london_phill_dataset_multi/flute/flute_Gs4_15_mezzo-piano_normal.mp3\n",
            "colhido 69 de 600 = ./BasicsMusicalInstrumClassifi/audio/london_phill_dataset_multi/flute/flute_Gs5_15_mezzo-piano_normal.mp3\n",
            "colhido 70 de 600 = ./BasicsMusicalInstrumClassifi/audio/london_phill_dataset_multi/flute/flute_A5_1_mezzo-forte_normal.mp3\n",
            "colhido 71 de 600 = ./BasicsMusicalInstrumClassifi/audio/london_phill_dataset_multi/flute/flute_A5_15_mezzo-piano_normal.mp3\n",
            "colhido 72 de 600 = ./BasicsMusicalInstrumClassifi/audio/london_phill_dataset_multi/flute/flute_Gs4_15_pianissimo_normal.mp3\n",
            "colhido 73 de 600 = ./BasicsMusicalInstrumClassifi/audio/london_phill_dataset_multi/flute/flute_A4_1_piano_normal.mp3\n",
            "colhido 74 de 600 = ./BasicsMusicalInstrumClassifi/audio/london_phill_dataset_multi/flute/flute_A6_15_forte_normal.mp3\n",
            "colhido 75 de 600 = ./BasicsMusicalInstrumClassifi/audio/london_phill_dataset_multi/flute/flute_Gs6_15_piano_normal.mp3\n",
            "colhido 76 de 600 = ./BasicsMusicalInstrumClassifi/audio/london_phill_dataset_multi/flute/flute_A4_025_mezzo-piano_normal.mp3\n",
            "colhido 77 de 600 = ./BasicsMusicalInstrumClassifi/audio/london_phill_dataset_multi/flute/flute_Gs5_025_forte_normal.mp3\n",
            "colhido 78 de 600 = ./BasicsMusicalInstrumClassifi/audio/london_phill_dataset_multi/flute/flute_A6_05_pianissimo_normal.mp3\n",
            "colhido 79 de 600 = ./BasicsMusicalInstrumClassifi/audio/london_phill_dataset_multi/flute/flute_A4_15_piano_normal.mp3\n",
            "colhido 80 de 600 = ./BasicsMusicalInstrumClassifi/audio/london_phill_dataset_multi/flute/flute_A5_15_pianissimo_normal.mp3\n",
            "colhido 81 de 600 = ./BasicsMusicalInstrumClassifi/audio/london_phill_dataset_multi/flute/flute_Gs5_025_pianissimo_normal.mp3\n",
            "colhido 82 de 600 = ./BasicsMusicalInstrumClassifi/audio/london_phill_dataset_multi/flute/flute_Gs4_05_pianissimo_normal.mp3\n",
            "colhido 83 de 600 = ./BasicsMusicalInstrumClassifi/audio/london_phill_dataset_multi/flute/flute_A5_05_piano_normal.mp3\n",
            "colhido 84 de 600 = ./BasicsMusicalInstrumClassifi/audio/london_phill_dataset_multi/flute/flute_Gs5_05_piano_normal.mp3\n",
            "colhido 85 de 600 = ./BasicsMusicalInstrumClassifi/audio/london_phill_dataset_multi/flute/flute_Gs6_1_pianissimo_normal.mp3\n",
            "colhido 86 de 600 = ./BasicsMusicalInstrumClassifi/audio/london_phill_dataset_multi/flute/flute_Gs4_025_piano_normal.mp3\n",
            "colhido 87 de 600 = ./BasicsMusicalInstrumClassifi/audio/london_phill_dataset_multi/flute/flute_A4_1_mezzo-piano_normal.mp3\n",
            "colhido 88 de 600 = ./BasicsMusicalInstrumClassifi/audio/london_phill_dataset_multi/flute/flute_Gs5_1_forte_normal.mp3\n",
            "colhido 89 de 600 = ./BasicsMusicalInstrumClassifi/audio/london_phill_dataset_multi/flute/flute_Gs5_15_mezzo-forte_normal.mp3\n",
            "colhido 90 de 600 = ./BasicsMusicalInstrumClassifi/audio/london_phill_dataset_multi/flute/flute_Gs4_025_mezzo-forte_normal.mp3\n",
            "colhido 91 de 600 = ./BasicsMusicalInstrumClassifi/audio/london_phill_dataset_multi/flute/flute_Gs6_025_mezzo-forte_normal.mp3\n",
            "colhido 92 de 600 = ./BasicsMusicalInstrumClassifi/audio/london_phill_dataset_multi/flute/flute_Gs6_025_pianissimo_normal.mp3\n",
            "colhido 93 de 600 = ./BasicsMusicalInstrumClassifi/audio/london_phill_dataset_multi/flute/flute_Gs6_1_piano_normal.mp3\n",
            "colhido 94 de 600 = ./BasicsMusicalInstrumClassifi/audio/london_phill_dataset_multi/flute/flute_Gs6_15_mezzo-forte_normal.mp3\n",
            "colhido 95 de 600 = ./BasicsMusicalInstrumClassifi/audio/london_phill_dataset_multi/flute/flute_Gs4_025_forte_normal.mp3\n",
            "colhido 96 de 600 = ./BasicsMusicalInstrumClassifi/audio/london_phill_dataset_multi/flute/flute_A4_05_piano_normal.mp3\n",
            "colhido 97 de 600 = ./BasicsMusicalInstrumClassifi/audio/london_phill_dataset_multi/flute/flute_A6_1_pianissimo_normal.mp3\n",
            "colhido 98 de 600 = ./BasicsMusicalInstrumClassifi/audio/london_phill_dataset_multi/flute/flute_A4_1_mezzo-forte_normal.mp3\n",
            "colhido 99 de 600 = ./BasicsMusicalInstrumClassifi/audio/london_phill_dataset_multi/flute/flute_A4_05_pianissimo_normal.mp3\n",
            "colhido 100 de 600 = ./BasicsMusicalInstrumClassifi/audio/london_phill_dataset_multi/flute/flute_Gs5_025_piano_normal.mp3\n",
            "colhido 101 de 600 = ./BasicsMusicalInstrumClassifi/audio/london_phill_dataset_multi/trumpet/trumpet_E3_05_pianissimo_normal.mp3\n",
            "colhido 102 de 600 = ./BasicsMusicalInstrumClassifi/audio/london_phill_dataset_multi/trumpet/trumpet_As3_025_forte_normal.mp3\n",
            "colhido 103 de 600 = ./BasicsMusicalInstrumClassifi/audio/london_phill_dataset_multi/trumpet/trumpet_As3_1_pianissimo_normal.mp3\n",
            "colhido 104 de 600 = ./BasicsMusicalInstrumClassifi/audio/london_phill_dataset_multi/trumpet/trumpet_A5_025_mezzo-forte_normal.mp3\n",
            "colhido 105 de 600 = ./BasicsMusicalInstrumClassifi/audio/london_phill_dataset_multi/trumpet/trumpet_Ds6_05_forte_normal.mp3\n",
            "colhido 106 de 600 = ./BasicsMusicalInstrumClassifi/audio/london_phill_dataset_multi/trumpet/trumpet_Gs3_1_pianissimo_normal.mp3\n",
            "colhido 107 de 600 = ./BasicsMusicalInstrumClassifi/audio/london_phill_dataset_multi/trumpet/trumpet_F3_15_pianissimo_normal.mp3\n",
            "colhido 108 de 600 = ./BasicsMusicalInstrumClassifi/audio/london_phill_dataset_multi/trumpet/trumpet_D6_025_forte_normal.mp3\n",
            "colhido 109 de 600 = ./BasicsMusicalInstrumClassifi/audio/london_phill_dataset_multi/trumpet/trumpet_As4_025_forte_normal.mp3\n",
            "colhido 110 de 600 = ./BasicsMusicalInstrumClassifi/audio/london_phill_dataset_multi/trumpet/trumpet_C4_025_pianissimo_normal.mp3\n",
            "colhido 111 de 600 = ./BasicsMusicalInstrumClassifi/audio/london_phill_dataset_multi/trumpet/trumpet_Gs5_05_forte_normal.mp3\n",
            "colhido 112 de 600 = ./BasicsMusicalInstrumClassifi/audio/london_phill_dataset_multi/trumpet/trumpet_A5_05_mezzo-forte_normal.mp3\n",
            "colhido 113 de 600 = ./BasicsMusicalInstrumClassifi/audio/london_phill_dataset_multi/trumpet/trumpet_F3_05_pianissimo_normal.mp3\n",
            "colhido 114 de 600 = ./BasicsMusicalInstrumClassifi/audio/london_phill_dataset_multi/trumpet/trumpet_B3_025_forte_normal.mp3\n",
            "colhido 115 de 600 = ./BasicsMusicalInstrumClassifi/audio/london_phill_dataset_multi/trumpet/trumpet_Cs6_025_forte_normal.mp3\n",
            "colhido 116 de 600 = ./BasicsMusicalInstrumClassifi/audio/london_phill_dataset_multi/trumpet/trumpet_B5_025_mezzo-forte_normal.mp3\n",
            "colhido 117 de 600 = ./BasicsMusicalInstrumClassifi/audio/london_phill_dataset_multi/trumpet/trumpet_As5_05_forte_normal.mp3\n",
            "colhido 118 de 600 = ./BasicsMusicalInstrumClassifi/audio/london_phill_dataset_multi/trumpet/trumpet_G5_1_mezzo-forte_normal.mp3\n",
            "colhido 119 de 600 = ./BasicsMusicalInstrumClassifi/audio/london_phill_dataset_multi/trumpet/trumpet_E3_15_pianissimo_normal.mp3\n",
            "colhido 120 de 600 = ./BasicsMusicalInstrumClassifi/audio/london_phill_dataset_multi/trumpet/trumpet_Cs4_1_pianissimo_normal.mp3\n",
            "colhido 121 de 600 = ./BasicsMusicalInstrumClassifi/audio/london_phill_dataset_multi/trumpet/trumpet_E4_1_pianissimo_normal.mp3\n",
            "colhido 122 de 600 = ./BasicsMusicalInstrumClassifi/audio/london_phill_dataset_multi/trumpet/trumpet_C4_1_pianissimo_normal.mp3\n",
            "colhido 123 de 600 = ./BasicsMusicalInstrumClassifi/audio/london_phill_dataset_multi/trumpet/trumpet_Ds4_05_forte_normal.mp3\n",
            "colhido 124 de 600 = ./BasicsMusicalInstrumClassifi/audio/london_phill_dataset_multi/trumpet/trumpet_E6_025_forte_normal.mp3\n",
            "colhido 125 de 600 = ./BasicsMusicalInstrumClassifi/audio/london_phill_dataset_multi/trumpet/trumpet_C6_05_forte_normal.mp3\n",
            "colhido 126 de 600 = ./BasicsMusicalInstrumClassifi/audio/london_phill_dataset_multi/trumpet/trumpet_Gs3_025_pianissimo_normal.mp3\n",
            "colhido 127 de 600 = ./BasicsMusicalInstrumClassifi/audio/london_phill_dataset_multi/trumpet/trumpet_A3_15_pianissimo_normal.mp3\n",
            "colhido 128 de 600 = ./BasicsMusicalInstrumClassifi/audio/london_phill_dataset_multi/trumpet/trumpet_A3_05_forte_normal.mp3\n",
            "colhido 129 de 600 = ./BasicsMusicalInstrumClassifi/audio/london_phill_dataset_multi/trumpet/trumpet_Cs4_15_pianissimo_normal.mp3\n",
            "colhido 130 de 600 = ./BasicsMusicalInstrumClassifi/audio/london_phill_dataset_multi/trumpet/trumpet_Ds4_05_pianissimo_normal.mp3\n",
            "colhido 131 de 600 = ./BasicsMusicalInstrumClassifi/audio/london_phill_dataset_multi/trumpet/trumpet_F3_1_forte_normal.mp3\n",
            "colhido 132 de 600 = ./BasicsMusicalInstrumClassifi/audio/london_phill_dataset_multi/trumpet/trumpet_D5_05_forte_normal.mp3\n",
            "colhido 133 de 600 = ./BasicsMusicalInstrumClassifi/audio/london_phill_dataset_multi/trumpet/trumpet_A4_05_forte_normal.mp3\n",
            "colhido 134 de 600 = ./BasicsMusicalInstrumClassifi/audio/london_phill_dataset_multi/trumpet/trumpet_C4_15_pianissimo_normal.mp3\n",
            "colhido 135 de 600 = ./BasicsMusicalInstrumClassifi/audio/london_phill_dataset_multi/trumpet/trumpet_Cs4_025_pianissimo_normal.mp3\n",
            "colhido 136 de 600 = ./BasicsMusicalInstrumClassifi/audio/london_phill_dataset_multi/trumpet/trumpet_F3_05_forte_normal.mp3\n",
            "colhido 137 de 600 = ./BasicsMusicalInstrumClassifi/audio/london_phill_dataset_multi/trumpet/trumpet_G5_025_mezzo-forte_normal.mp3\n",
            "colhido 138 de 600 = ./BasicsMusicalInstrumClassifi/audio/london_phill_dataset_multi/trumpet/trumpet_B3_025_pianissimo_normal.mp3\n",
            "colhido 139 de 600 = ./BasicsMusicalInstrumClassifi/audio/london_phill_dataset_multi/trumpet/trumpet_D4_025_forte_normal.mp3\n",
            "colhido 140 de 600 = ./BasicsMusicalInstrumClassifi/audio/london_phill_dataset_multi/trumpet/trumpet_C4_05_forte_normal.mp3\n",
            "colhido 141 de 600 = ./BasicsMusicalInstrumClassifi/audio/london_phill_dataset_multi/trumpet/trumpet_Gs5_025_forte_normal.mp3\n",
            "colhido 142 de 600 = ./BasicsMusicalInstrumClassifi/audio/london_phill_dataset_multi/trumpet/trumpet_Gs3_05_pianissimo_normal.mp3\n",
            "colhido 143 de 600 = ./BasicsMusicalInstrumClassifi/audio/london_phill_dataset_multi/trumpet/trumpet_E3_1_pianissimo_normal.mp3\n",
            "colhido 144 de 600 = ./BasicsMusicalInstrumClassifi/audio/london_phill_dataset_multi/trumpet/trumpet_Ds4_15_pianissimo_normal.mp3\n",
            "colhido 145 de 600 = ./BasicsMusicalInstrumClassifi/audio/london_phill_dataset_multi/trumpet/trumpet_B5_025_forte_normal.mp3\n",
            "colhido 146 de 600 = ./BasicsMusicalInstrumClassifi/audio/london_phill_dataset_multi/trumpet/trumpet_A3_025_pianissimo_normal.mp3\n",
            "colhido 147 de 600 = ./BasicsMusicalInstrumClassifi/audio/london_phill_dataset_multi/trumpet/trumpet_As3_15_pianissimo_normal.mp3\n",
            "colhido 148 de 600 = ./BasicsMusicalInstrumClassifi/audio/london_phill_dataset_multi/trumpet/trumpet_E3_05_forte_normal.mp3\n",
            "colhido 149 de 600 = ./BasicsMusicalInstrumClassifi/audio/london_phill_dataset_multi/trumpet/trumpet_C6_025_forte_normal.mp3\n",
            "colhido 150 de 600 = ./BasicsMusicalInstrumClassifi/audio/london_phill_dataset_multi/trumpet/trumpet_B3_05_forte_normal.mp3\n",
            "colhido 151 de 600 = ./BasicsMusicalInstrumClassifi/audio/london_phill_dataset_multi/trumpet/trumpet_E3_025_pianissimo_normal.mp3\n",
            "colhido 152 de 600 = ./BasicsMusicalInstrumClassifi/audio/london_phill_dataset_multi/trumpet/trumpet_Cs4_05_pianissimo_normal.mp3\n",
            "colhido 153 de 600 = ./BasicsMusicalInstrumClassifi/audio/london_phill_dataset_multi/trumpet/trumpet_G3_025_pianissimo_normal.mp3\n",
            "colhido 154 de 600 = ./BasicsMusicalInstrumClassifi/audio/london_phill_dataset_multi/trumpet/trumpet_D6_05_forte_normal.mp3\n",
            "colhido 155 de 600 = ./BasicsMusicalInstrumClassifi/audio/london_phill_dataset_multi/trumpet/trumpet_Gs5_05_mezzo-forte_normal.mp3\n",
            "colhido 156 de 600 = ./BasicsMusicalInstrumClassifi/audio/london_phill_dataset_multi/trumpet/trumpet_Ds6_025_forte_normal.mp3\n",
            "colhido 157 de 600 = ./BasicsMusicalInstrumClassifi/audio/london_phill_dataset_multi/trumpet/trumpet_D4_025_pianissimo_normal.mp3\n",
            "colhido 158 de 600 = ./BasicsMusicalInstrumClassifi/audio/london_phill_dataset_multi/trumpet/trumpet_G5_05_mezzo-forte_normal.mp3\n",
            "colhido 159 de 600 = ./BasicsMusicalInstrumClassifi/audio/london_phill_dataset_multi/trumpet/trumpet_G3_1_pianissimo_normal.mp3\n",
            "colhido 160 de 600 = ./BasicsMusicalInstrumClassifi/audio/london_phill_dataset_multi/trumpet/trumpet_E6_1_forte_normal.mp3\n",
            "colhido 161 de 600 = ./BasicsMusicalInstrumClassifi/audio/london_phill_dataset_multi/trumpet/trumpet_F3_025_pianissimo_normal.mp3\n",
            "colhido 162 de 600 = ./BasicsMusicalInstrumClassifi/audio/london_phill_dataset_multi/trumpet/trumpet_A3_05_pianissimo_normal.mp3\n",
            "colhido 163 de 600 = ./BasicsMusicalInstrumClassifi/audio/london_phill_dataset_multi/trumpet/trumpet_G3_05_pianissimo_normal.mp3\n",
            "colhido 164 de 600 = ./BasicsMusicalInstrumClassifi/audio/london_phill_dataset_multi/trumpet/trumpet_F3_025_forte_normal.mp3\n",
            "colhido 165 de 600 = ./BasicsMusicalInstrumClassifi/audio/london_phill_dataset_multi/trumpet/trumpet_C4_025_forte_normal.mp3\n",
            "colhido 166 de 600 = ./BasicsMusicalInstrumClassifi/audio/london_phill_dataset_multi/trumpet/trumpet_As3_025_pianissimo_normal.mp3\n",
            "colhido 167 de 600 = ./BasicsMusicalInstrumClassifi/audio/london_phill_dataset_multi/trumpet/trumpet_E3_1_forte_normal.mp3\n",
            "colhido 168 de 600 = ./BasicsMusicalInstrumClassifi/audio/london_phill_dataset_multi/trumpet/trumpet_E4_025_pianissimo_normal.mp3\n",
            "colhido 169 de 600 = ./BasicsMusicalInstrumClassifi/audio/london_phill_dataset_multi/trumpet/trumpet_A5_025_forte_normal.mp3\n",
            "colhido 170 de 600 = ./BasicsMusicalInstrumClassifi/audio/london_phill_dataset_multi/trumpet/trumpet_As5_025_forte_normal.mp3\n",
            "colhido 171 de 600 = ./BasicsMusicalInstrumClassifi/audio/london_phill_dataset_multi/trumpet/trumpet_C4_05_pianissimo_normal.mp3\n",
            "colhido 172 de 600 = ./BasicsMusicalInstrumClassifi/audio/london_phill_dataset_multi/trumpet/trumpet_D4_1_pianissimo_normal.mp3\n",
            "colhido 173 de 600 = ./BasicsMusicalInstrumClassifi/audio/london_phill_dataset_multi/trumpet/trumpet_Gs3_1_forte_normal.mp3\n",
            "colhido 174 de 600 = ./BasicsMusicalInstrumClassifi/audio/london_phill_dataset_multi/trumpet/trumpet_D4_05_pianissimo_normal.mp3\n",
            "colhido 175 de 600 = ./BasicsMusicalInstrumClassifi/audio/london_phill_dataset_multi/trumpet/trumpet_F4_025_pianissimo_normal.mp3\n",
            "colhido 176 de 600 = ./BasicsMusicalInstrumClassifi/audio/london_phill_dataset_multi/trumpet/trumpet_D4_15_pianissimo_normal.mp3\n",
            "colhido 177 de 600 = ./BasicsMusicalInstrumClassifi/audio/london_phill_dataset_multi/trumpet/trumpet_B3_1_pianissimo_normal.mp3\n",
            "colhido 178 de 600 = ./BasicsMusicalInstrumClassifi/audio/london_phill_dataset_multi/trumpet/trumpet_D4_05_forte_normal.mp3\n",
            "colhido 179 de 600 = ./BasicsMusicalInstrumClassifi/audio/london_phill_dataset_multi/trumpet/trumpet_G5_15_mezzo-forte_normal.mp3\n",
            "colhido 180 de 600 = ./BasicsMusicalInstrumClassifi/audio/london_phill_dataset_multi/trumpet/trumpet_As5_05_mezzo-forte_normal.mp3\n",
            "colhido 181 de 600 = ./BasicsMusicalInstrumClassifi/audio/london_phill_dataset_multi/trumpet/trumpet_B3_05_pianissimo_normal.mp3\n",
            "colhido 182 de 600 = ./BasicsMusicalInstrumClassifi/audio/london_phill_dataset_multi/trumpet/trumpet_A3_1_pianissimo_normal.mp3\n",
            "colhido 183 de 600 = ./BasicsMusicalInstrumClassifi/audio/london_phill_dataset_multi/trumpet/trumpet_Ds4_025_pianissimo_normal.mp3\n",
            "colhido 184 de 600 = ./BasicsMusicalInstrumClassifi/audio/london_phill_dataset_multi/trumpet/trumpet_Gs4_05_forte_normal.mp3\n",
            "colhido 185 de 600 = ./BasicsMusicalInstrumClassifi/audio/london_phill_dataset_multi/trumpet/trumpet_F4_05_pianissimo_normal.mp3\n",
            "colhido 186 de 600 = ./BasicsMusicalInstrumClassifi/audio/london_phill_dataset_multi/trumpet/trumpet_B4_025_forte_normal.mp3\n",
            "colhido 187 de 600 = ./BasicsMusicalInstrumClassifi/audio/london_phill_dataset_multi/trumpet/trumpet_F3_1_pianissimo_normal.mp3\n",
            "colhido 188 de 600 = ./BasicsMusicalInstrumClassifi/audio/london_phill_dataset_multi/trumpet/trumpet_Gs3_05_forte_normal.mp3\n",
            "colhido 189 de 600 = ./BasicsMusicalInstrumClassifi/audio/london_phill_dataset_multi/trumpet/trumpet_As3_05_pianissimo_normal.mp3\n",
            "colhido 190 de 600 = ./BasicsMusicalInstrumClassifi/audio/london_phill_dataset_multi/trumpet/trumpet_G3_15_pianissimo_normal.mp3\n",
            "colhido 191 de 600 = ./BasicsMusicalInstrumClassifi/audio/london_phill_dataset_multi/trumpet/trumpet_Ds4_1_pianissimo_normal.mp3\n",
            "colhido 192 de 600 = ./BasicsMusicalInstrumClassifi/audio/london_phill_dataset_multi/trumpet/trumpet_Cs4_05_forte_normal.mp3\n",
            "colhido 193 de 600 = ./BasicsMusicalInstrumClassifi/audio/london_phill_dataset_multi/trumpet/trumpet_A4_025_forte_normal.mp3\n",
            "colhido 194 de 600 = ./BasicsMusicalInstrumClassifi/audio/london_phill_dataset_multi/trumpet/trumpet_Gs5_025_mezzo-forte_normal.mp3\n",
            "colhido 195 de 600 = ./BasicsMusicalInstrumClassifi/audio/london_phill_dataset_multi/trumpet/trumpet_B3_15_pianissimo_normal.mp3\n",
            "colhido 196 de 600 = ./BasicsMusicalInstrumClassifi/audio/london_phill_dataset_multi/trumpet/trumpet_E4_15_pianissimo_normal.mp3\n",
            "colhido 197 de 600 = ./BasicsMusicalInstrumClassifi/audio/london_phill_dataset_multi/trumpet/trumpet_E4_05_pianissimo_normal.mp3\n",
            "colhido 198 de 600 = ./BasicsMusicalInstrumClassifi/audio/london_phill_dataset_multi/trumpet/trumpet_Ds5_05_forte_normal.mp3\n",
            "colhido 199 de 600 = ./BasicsMusicalInstrumClassifi/audio/london_phill_dataset_multi/trumpet/trumpet_Gs4_025_forte_normal.mp3\n",
            "colhido 200 de 600 = ./BasicsMusicalInstrumClassifi/audio/london_phill_dataset_multi/trumpet/trumpet_Gs3_15_pianissimo_normal.mp3\n",
            "colhido 201 de 600 = ./BasicsMusicalInstrumClassifi/audio/london_phill_dataset_multi/cello/cello_A4_1_mezzo-forte_arco-harmonic.mp3\n",
            "colhido 202 de 600 = ./BasicsMusicalInstrumClassifi/audio/london_phill_dataset_multi/cello/cello_Gs4_05_fortissimo_arco-normal.mp3\n",
            "colhido 203 de 600 = ./BasicsMusicalInstrumClassifi/audio/london_phill_dataset_multi/cello/cello_A2_1_forte_arco-normal.mp3\n",
            "colhido 204 de 600 = ./BasicsMusicalInstrumClassifi/audio/london_phill_dataset_multi/cello/cello_Gs3_05_mezzo-piano_arco-normal.mp3\n",
            "colhido 205 de 600 = ./BasicsMusicalInstrumClassifi/audio/london_phill_dataset_multi/cello/cello_A2_05_fortissimo_arco-normal.mp3\n",
            "colhido 206 de 600 = ./BasicsMusicalInstrumClassifi/audio/london_phill_dataset_multi/cello/cello_Gs5_1_mezzo-forte_arco-harmonic.mp3\n",
            "colhido 207 de 600 = ./BasicsMusicalInstrumClassifi/audio/london_phill_dataset_multi/cello/cello_Gs4_05_forte_arco-normal.mp3\n",
            "colhido 208 de 600 = ./BasicsMusicalInstrumClassifi/audio/london_phill_dataset_multi/cello/cello_Gs4_15_mezzo-piano_arco-normal.mp3\n",
            "colhido 209 de 600 = ./BasicsMusicalInstrumClassifi/audio/london_phill_dataset_multi/cello/cello_Gs3_1_pianissimo_arco-normal.mp3\n",
            "colhido 210 de 600 = ./BasicsMusicalInstrumClassifi/audio/london_phill_dataset_multi/cello/cello_Gs5_025_pianissimo_arco-normal.mp3\n",
            "colhido 211 de 600 = ./BasicsMusicalInstrumClassifi/audio/london_phill_dataset_multi/cello/cello_Gs3_15_fortissimo_arco-normal.mp3\n",
            "colhido 212 de 600 = ./BasicsMusicalInstrumClassifi/audio/london_phill_dataset_multi/cello/cello_A3_05_mezzo-piano_arco-normal.mp3\n",
            "colhido 213 de 600 = ./BasicsMusicalInstrumClassifi/audio/london_phill_dataset_multi/cello/cello_A2_025_mezzo-piano_arco-normal.mp3\n",
            "colhido 214 de 600 = ./BasicsMusicalInstrumClassifi/audio/london_phill_dataset_multi/cello/cello_A3_1_forte_arco-normal.mp3\n",
            "colhido 215 de 600 = ./BasicsMusicalInstrumClassifi/audio/london_phill_dataset_multi/cello/cello_A2_025_forte_arco-normal.mp3\n",
            "colhido 216 de 600 = ./BasicsMusicalInstrumClassifi/audio/london_phill_dataset_multi/cello/cello_A2_05_forte_arco-normal.mp3\n",
            "colhido 217 de 600 = ./BasicsMusicalInstrumClassifi/audio/london_phill_dataset_multi/cello/cello_Gs3_025_pianissimo_arco-normal.mp3\n",
            "colhido 218 de 600 = ./BasicsMusicalInstrumClassifi/audio/london_phill_dataset_multi/cello/cello_Gs5_05_pianissimo_arco-normal.mp3\n",
            "colhido 219 de 600 = ./BasicsMusicalInstrumClassifi/audio/london_phill_dataset_multi/cello/cello_A3_15_forte_arco-normal.mp3\n",
            "colhido 220 de 600 = ./BasicsMusicalInstrumClassifi/audio/london_phill_dataset_multi/cello/cello_Gs2_025_pianissimo_arco-normal.mp3\n",
            "colhido 221 de 600 = ./BasicsMusicalInstrumClassifi/audio/london_phill_dataset_multi/cello/cello_A4_1_mezzo-piano_molto-vibrato.mp3\n",
            "colhido 222 de 600 = ./BasicsMusicalInstrumClassifi/audio/london_phill_dataset_multi/cello/cello_A4_05_pianissimo_arco-normal.mp3\n",
            "colhido 223 de 600 = ./BasicsMusicalInstrumClassifi/audio/london_phill_dataset_multi/cello/cello_Gs3_025_mezzo-piano_arco-normal.mp3\n",
            "colhido 224 de 600 = ./BasicsMusicalInstrumClassifi/audio/london_phill_dataset_multi/cello/cello_Gs3_15_pianissimo_arco-normal.mp3\n",
            "colhido 225 de 600 = ./BasicsMusicalInstrumClassifi/audio/london_phill_dataset_multi/cello/cello_A3_025_pianissimo_arco-normal.mp3\n",
            "colhido 226 de 600 = ./BasicsMusicalInstrumClassifi/audio/london_phill_dataset_multi/cello/cello_Gs5_1_forte_arco-normal.mp3\n",
            "colhido 227 de 600 = ./BasicsMusicalInstrumClassifi/audio/london_phill_dataset_multi/cello/cello_Gs4_05_mezzo-piano_arco-normal.mp3\n",
            "colhido 228 de 600 = ./BasicsMusicalInstrumClassifi/audio/london_phill_dataset_multi/cello/cello_Gs5_15_fortissimo_arco-normal.mp3\n",
            "colhido 229 de 600 = ./BasicsMusicalInstrumClassifi/audio/london_phill_dataset_multi/cello/cello_A4_1_mezzo-piano_arco-minor-trill.mp3\n",
            "colhido 230 de 600 = ./BasicsMusicalInstrumClassifi/audio/london_phill_dataset_multi/cello/cello_A4_15_mezzo-piano_arco-normal.mp3\n",
            "colhido 231 de 600 = ./BasicsMusicalInstrumClassifi/audio/london_phill_dataset_multi/cello/cello_Gs5_025_mezzo-piano_arco-normal.mp3\n",
            "colhido 232 de 600 = ./BasicsMusicalInstrumClassifi/audio/london_phill_dataset_multi/cello/cello_Gs4_1_forte_arco-normal.mp3\n",
            "colhido 233 de 600 = ./BasicsMusicalInstrumClassifi/audio/london_phill_dataset_multi/cello/cello_Gs4_15_fortissimo_arco-normal.mp3\n",
            "colhido 234 de 600 = ./BasicsMusicalInstrumClassifi/audio/london_phill_dataset_multi/cello/cello_Gs4_025_mezzo-forte_arco-col-legno-battuto.mp3\n",
            "colhido 235 de 600 = ./BasicsMusicalInstrumClassifi/audio/london_phill_dataset_multi/cello/cello_A3_025_forte_arco-normal.mp3\n",
            "colhido 236 de 600 = ./BasicsMusicalInstrumClassifi/audio/london_phill_dataset_multi/cello/cello_Gs4_025_pianissimo_arco-normal.mp3\n",
            "colhido 237 de 600 = ./BasicsMusicalInstrumClassifi/audio/london_phill_dataset_multi/cello/cello_Gs3_05_forte_arco-normal.mp3\n",
            "colhido 238 de 600 = ./BasicsMusicalInstrumClassifi/audio/london_phill_dataset_multi/cello/cello_Gs3_15_forte_arco-normal.mp3\n",
            "colhido 239 de 600 = ./BasicsMusicalInstrumClassifi/audio/london_phill_dataset_multi/cello/cello_Gs5_15_mezzo-piano_arco-normal.mp3\n",
            "colhido 240 de 600 = ./BasicsMusicalInstrumClassifi/audio/london_phill_dataset_multi/cello/cello_A4_1_fortissimo_arco-normal.mp3\n",
            "colhido 241 de 600 = ./BasicsMusicalInstrumClassifi/audio/london_phill_dataset_multi/cello/cello_Gs5_15_pianissimo_arco-normal.mp3\n",
            "colhido 242 de 600 = ./BasicsMusicalInstrumClassifi/audio/london_phill_dataset_multi/cello/cello_A4_1_pianissimo_arco-normal.mp3\n",
            "colhido 243 de 600 = ./BasicsMusicalInstrumClassifi/audio/london_phill_dataset_multi/cello/cello_A4_05_forte_arco-normal.mp3\n",
            "colhido 244 de 600 = ./BasicsMusicalInstrumClassifi/audio/london_phill_dataset_multi/cello/cello_Gs4_025_mezzo-piano_arco-normal.mp3\n",
            "colhido 245 de 600 = ./BasicsMusicalInstrumClassifi/audio/london_phill_dataset_multi/cello/cello_Gs4_025_fortissimo_arco-normal.mp3\n",
            "colhido 246 de 600 = ./BasicsMusicalInstrumClassifi/audio/london_phill_dataset_multi/cello/cello_Gs3_025_fortissimo_arco-normal.mp3\n",
            "colhido 247 de 600 = ./BasicsMusicalInstrumClassifi/audio/london_phill_dataset_multi/cello/cello_A2_025_mezzo-forte_arco-col-legno-battuto.mp3\n",
            "colhido 248 de 600 = ./BasicsMusicalInstrumClassifi/audio/london_phill_dataset_multi/cello/cello_A4_025_mezzo-piano_arco-normal.mp3\n",
            "colhido 249 de 600 = ./BasicsMusicalInstrumClassifi/audio/london_phill_dataset_multi/cello/cello_A3_05_forte_arco-normal.mp3\n",
            "colhido 250 de 600 = ./BasicsMusicalInstrumClassifi/audio/london_phill_dataset_multi/cello/cello_A3_1_mezzo-piano_non-vibrato.mp3\n",
            "colhido 251 de 600 = ./BasicsMusicalInstrumClassifi/audio/london_phill_dataset_multi/cello/cello_Gs3_05_fortissimo_arco-normal.mp3\n",
            "colhido 252 de 600 = ./BasicsMusicalInstrumClassifi/audio/london_phill_dataset_multi/cello/cello_A3_1_fortissimo_arco-normal.mp3\n",
            "colhido 253 de 600 = ./BasicsMusicalInstrumClassifi/audio/london_phill_dataset_multi/cello/cello_A2_05_mezzo-piano_arco-normal.mp3\n",
            "colhido 254 de 600 = ./BasicsMusicalInstrumClassifi/audio/london_phill_dataset_multi/cello/cello_A4_15_forte_arco-normal.mp3\n",
            "colhido 255 de 600 = ./BasicsMusicalInstrumClassifi/audio/london_phill_dataset_multi/cello/cello_A4_025_forte_arco-normal.mp3\n",
            "colhido 256 de 600 = ./BasicsMusicalInstrumClassifi/audio/london_phill_dataset_multi/cello/cello_Gs4_025_forte_arco-normal.mp3\n",
            "colhido 257 de 600 = ./BasicsMusicalInstrumClassifi/audio/london_phill_dataset_multi/cello/cello_A4_025_fortissimo_arco-normal.mp3\n",
            "colhido 258 de 600 = ./BasicsMusicalInstrumClassifi/audio/london_phill_dataset_multi/cello/cello_Gs4_15_forte_arco-normal.mp3\n",
            "colhido 259 de 600 = ./BasicsMusicalInstrumClassifi/audio/london_phill_dataset_multi/cello/cello_A4_05_mezzo-piano_arco-normal.mp3\n",
            "colhido 260 de 600 = ./BasicsMusicalInstrumClassifi/audio/london_phill_dataset_multi/cello/cello_A3_15_mezzo-piano_arco-normal.mp3\n",
            "colhido 261 de 600 = ./BasicsMusicalInstrumClassifi/audio/london_phill_dataset_multi/cello/cello_Gs5_1_mezzo-piano_arco-normal.mp3\n",
            "colhido 262 de 600 = ./BasicsMusicalInstrumClassifi/audio/london_phill_dataset_multi/cello/cello_A2_15_forte_arco-normal.mp3\n",
            "colhido 263 de 600 = ./BasicsMusicalInstrumClassifi/audio/london_phill_dataset_multi/cello/cello_A2_15_piano_arco-normal.mp3\n",
            "colhido 264 de 600 = ./BasicsMusicalInstrumClassifi/audio/london_phill_dataset_multi/cello/cello_A4_1_mezzo-piano_arco-normal.mp3\n",
            "colhido 265 de 600 = ./BasicsMusicalInstrumClassifi/audio/london_phill_dataset_multi/cello/cello_A3_05_fortissimo_arco-normal.mp3\n",
            "colhido 266 de 600 = ./BasicsMusicalInstrumClassifi/audio/london_phill_dataset_multi/cello/cello_Gs4_1_mezzo-piano_arco-normal.mp3\n",
            "colhido 267 de 600 = ./BasicsMusicalInstrumClassifi/audio/london_phill_dataset_multi/cello/cello_Gs5_05_mezzo-piano_arco-normal.mp3\n",
            "colhido 268 de 600 = ./BasicsMusicalInstrumClassifi/audio/london_phill_dataset_multi/cello/cello_A2_025_fortissimo_arco-normal.mp3\n",
            "colhido 269 de 600 = ./BasicsMusicalInstrumClassifi/audio/london_phill_dataset_multi/cello/cello_Gs5_15_forte_arco-normal.mp3\n",
            "colhido 270 de 600 = ./BasicsMusicalInstrumClassifi/audio/london_phill_dataset_multi/cello/cello_A3_025_mezzo-forte_arco-col-legno-battuto.mp3\n",
            "colhido 271 de 600 = ./BasicsMusicalInstrumClassifi/audio/london_phill_dataset_multi/cello/cello_A2_1_pianissimo_arco-normal.mp3\n",
            "colhido 272 de 600 = ./BasicsMusicalInstrumClassifi/audio/london_phill_dataset_multi/cello/cello_A3_1_mezzo-piano_arco-minor-trill.mp3\n",
            "colhido 273 de 600 = ./BasicsMusicalInstrumClassifi/audio/london_phill_dataset_multi/cello/cello_A2_1_fortissimo_arco-normal.mp3\n",
            "colhido 274 de 600 = ./BasicsMusicalInstrumClassifi/audio/london_phill_dataset_multi/cello/cello_A4_025_pianissimo_arco-normal.mp3\n",
            "colhido 275 de 600 = ./BasicsMusicalInstrumClassifi/audio/london_phill_dataset_multi/cello/cello_Gs3_1_mezzo-piano_arco-normal.mp3\n",
            "colhido 276 de 600 = ./BasicsMusicalInstrumClassifi/audio/london_phill_dataset_multi/cello/cello_Gs4_1_pianissimo_arco-normal.mp3\n",
            "colhido 277 de 600 = ./BasicsMusicalInstrumClassifi/audio/london_phill_dataset_multi/cello/cello_A2_05_pianissimo_arco-normal.mp3\n",
            "colhido 278 de 600 = ./BasicsMusicalInstrumClassifi/audio/london_phill_dataset_multi/cello/cello_Gs5_05_fortissimo_arco-normal.mp3\n",
            "colhido 279 de 600 = ./BasicsMusicalInstrumClassifi/audio/london_phill_dataset_multi/cello/cello_A2_1_mezzo-piano_non-vibrato.mp3\n",
            "colhido 280 de 600 = ./BasicsMusicalInstrumClassifi/audio/london_phill_dataset_multi/cello/cello_Gs5_1_pianissimo_arco-normal.mp3\n",
            "colhido 281 de 600 = ./BasicsMusicalInstrumClassifi/audio/london_phill_dataset_multi/cello/cello_A3_025_mezzo-piano_arco-normal.mp3\n",
            "colhido 282 de 600 = ./BasicsMusicalInstrumClassifi/audio/london_phill_dataset_multi/cello/cello_Gs4_15_pianissimo_arco-normal.mp3\n",
            "colhido 283 de 600 = ./BasicsMusicalInstrumClassifi/audio/london_phill_dataset_multi/cello/cello_A2_1_mezzo-piano_arco-normal.mp3\n",
            "colhido 284 de 600 = ./BasicsMusicalInstrumClassifi/audio/london_phill_dataset_multi/cello/cello_Gs4_1_fortissimo_arco-normal.mp3\n",
            "colhido 285 de 600 = ./BasicsMusicalInstrumClassifi/audio/london_phill_dataset_multi/cello/cello_Gs5_05_forte_arco-normal.mp3\n",
            "colhido 286 de 600 = ./BasicsMusicalInstrumClassifi/audio/london_phill_dataset_multi/cello/cello_A3_1_mezzo-piano_arco-normal.mp3\n",
            "colhido 287 de 600 = ./BasicsMusicalInstrumClassifi/audio/london_phill_dataset_multi/cello/cello_Gs5_025_forte_arco-normal.mp3\n",
            "colhido 288 de 600 = ./BasicsMusicalInstrumClassifi/audio/london_phill_dataset_multi/cello/cello_Gs3_15_piano_arco-normal.mp3\n",
            "colhido 289 de 600 = ./BasicsMusicalInstrumClassifi/audio/london_phill_dataset_multi/cello/cello_A3_025_fortissimo_arco-normal.mp3\n",
            "colhido 290 de 600 = ./BasicsMusicalInstrumClassifi/audio/london_phill_dataset_multi/cello/cello_A3_1_pianissimo_arco-normal.mp3\n",
            "colhido 291 de 600 = ./BasicsMusicalInstrumClassifi/audio/london_phill_dataset_multi/cello/cello_Gs3_1_forte_arco-normal.mp3\n",
            "colhido 292 de 600 = ./BasicsMusicalInstrumClassifi/audio/london_phill_dataset_multi/cello/cello_Gs3_025_forte_arco-normal.mp3\n",
            "colhido 293 de 600 = ./BasicsMusicalInstrumClassifi/audio/london_phill_dataset_multi/cello/cello_A2_025_pianissimo_arco-normal.mp3\n",
            "colhido 294 de 600 = ./BasicsMusicalInstrumClassifi/audio/london_phill_dataset_multi/cello/cello_Gs5_025_fortissimo_arco-normal.mp3\n",
            "colhido 295 de 600 = ./BasicsMusicalInstrumClassifi/audio/london_phill_dataset_multi/cello/cello_A4_1_forte_arco-normal.mp3\n",
            "colhido 296 de 600 = ./BasicsMusicalInstrumClassifi/audio/london_phill_dataset_multi/cello/cello_A2_15_pianissimo_arco-normal.mp3\n",
            "colhido 297 de 600 = ./BasicsMusicalInstrumClassifi/audio/london_phill_dataset_multi/cello/cello_A4_025_mezzo-forte_arco-col-legno-battuto.mp3\n",
            "colhido 298 de 600 = ./BasicsMusicalInstrumClassifi/audio/london_phill_dataset_multi/cello/cello_Gs5_1_fortissimo_arco-normal.mp3\n",
            "colhido 299 de 600 = ./BasicsMusicalInstrumClassifi/audio/london_phill_dataset_multi/cello/cello_Gs4_05_pianissimo_arco-normal.mp3\n",
            "colhido 300 de 600 = ./BasicsMusicalInstrumClassifi/audio/london_phill_dataset_multi/cello/cello_Gs3_05_pianissimo_arco-normal.mp3\n",
            "colhido 301 de 600 = ./BasicsMusicalInstrumClassifi/audio/london_phill_dataset_multi/sax/saxophone_Gs5_025_fortissimo_normal.mp3\n",
            "colhido 302 de 600 = ./BasicsMusicalInstrumClassifi/audio/london_phill_dataset_multi/sax/saxophone_Gs3_05_forte_normal.mp3\n",
            "colhido 303 de 600 = ./BasicsMusicalInstrumClassifi/audio/london_phill_dataset_multi/sax/saxophone_Gs3_1_pianissimo_normal.mp3\n",
            "colhido 304 de 600 = ./BasicsMusicalInstrumClassifi/audio/london_phill_dataset_multi/sax/saxophone_Gs3_15_pianissimo_normal.mp3\n",
            "colhido 305 de 600 = ./BasicsMusicalInstrumClassifi/audio/london_phill_dataset_multi/sax/saxophone_A5_1_forte_normal.mp3\n",
            "colhido 306 de 600 = ./BasicsMusicalInstrumClassifi/audio/london_phill_dataset_multi/sax/saxophone_A4_05_piano_normal.mp3\n",
            "colhido 307 de 600 = ./BasicsMusicalInstrumClassifi/audio/london_phill_dataset_multi/sax/saxophone_Ds4_15_fortissimo_normal.mp3\n",
            "colhido 308 de 600 = ./BasicsMusicalInstrumClassifi/audio/london_phill_dataset_multi/sax/saxophone_A3_1_fortissimo_normal.mp3\n",
            "colhido 309 de 600 = ./BasicsMusicalInstrumClassifi/audio/london_phill_dataset_multi/sax/saxophone_A3_025_pianissimo_normal.mp3\n",
            "colhido 310 de 600 = ./BasicsMusicalInstrumClassifi/audio/london_phill_dataset_multi/sax/saxophone_Gs3_1_piano_normal.mp3\n",
            "colhido 311 de 600 = ./BasicsMusicalInstrumClassifi/audio/london_phill_dataset_multi/sax/saxophone_Ds4_05_fortissimo_normal.mp3\n",
            "colhido 312 de 600 = ./BasicsMusicalInstrumClassifi/audio/london_phill_dataset_multi/sax/saxophone_A3_05_fortissimo_normal.mp3\n",
            "colhido 313 de 600 = ./BasicsMusicalInstrumClassifi/audio/london_phill_dataset_multi/sax/saxophone_Gs4_05_piano_normal.mp3\n",
            "colhido 314 de 600 = ./BasicsMusicalInstrumClassifi/audio/london_phill_dataset_multi/sax/saxophone_Gs5_1_forte_normal.mp3\n",
            "colhido 315 de 600 = ./BasicsMusicalInstrumClassifi/audio/london_phill_dataset_multi/sax/saxophone_Gs4_1_pianissimo_normal.mp3\n",
            "colhido 316 de 600 = ./BasicsMusicalInstrumClassifi/audio/london_phill_dataset_multi/sax/saxophone_Gs5_05_forte_normal.mp3\n",
            "colhido 317 de 600 = ./BasicsMusicalInstrumClassifi/audio/london_phill_dataset_multi/sax/saxophone_Ds4_025_forte_normal.mp3\n",
            "colhido 318 de 600 = ./BasicsMusicalInstrumClassifi/audio/london_phill_dataset_multi/sax/saxophone_Gs4_05_fortissimo_normal.mp3\n",
            "colhido 319 de 600 = ./BasicsMusicalInstrumClassifi/audio/london_phill_dataset_multi/sax/saxophone_A5_1_fortissimo_normal.mp3\n",
            "colhido 320 de 600 = ./BasicsMusicalInstrumClassifi/audio/london_phill_dataset_multi/sax/saxophone_A3_15_fortissimo_normal.mp3\n",
            "colhido 321 de 600 = ./BasicsMusicalInstrumClassifi/audio/london_phill_dataset_multi/sax/saxophone_Gs4_1_forte_normal.mp3\n",
            "colhido 322 de 600 = ./BasicsMusicalInstrumClassifi/audio/london_phill_dataset_multi/sax/saxophone_A3_025_mezzo-piano_normal.mp3\n",
            "colhido 323 de 600 = ./BasicsMusicalInstrumClassifi/audio/london_phill_dataset_multi/sax/saxophone_A4_025_fortissimo_normal.mp3\n",
            "colhido 324 de 600 = ./BasicsMusicalInstrumClassifi/audio/london_phill_dataset_multi/sax/saxophone_Gs3_05_piano_normal.mp3\n",
            "colhido 325 de 600 = ./BasicsMusicalInstrumClassifi/audio/london_phill_dataset_multi/sax/saxophone_A5_05_piano_normal.mp3\n",
            "colhido 326 de 600 = ./BasicsMusicalInstrumClassifi/audio/london_phill_dataset_multi/sax/saxophone_Ds4_05_mezzo-forte_slap-tongue.mp3\n",
            "colhido 327 de 600 = ./BasicsMusicalInstrumClassifi/audio/london_phill_dataset_multi/sax/saxophone_A3_05_mezzo-piano_normal.mp3\n",
            "colhido 328 de 600 = ./BasicsMusicalInstrumClassifi/audio/london_phill_dataset_multi/sax/saxophone_A4_1_pianissimo_normal.mp3\n",
            "colhido 329 de 600 = ./BasicsMusicalInstrumClassifi/audio/london_phill_dataset_multi/sax/saxophone_Gs4_025_piano_normal.mp3\n",
            "colhido 330 de 600 = ./BasicsMusicalInstrumClassifi/audio/london_phill_dataset_multi/sax/saxophone_A3_05_pianissimo_normal.mp3\n",
            "colhido 331 de 600 = ./BasicsMusicalInstrumClassifi/audio/london_phill_dataset_multi/sax/saxophone_A4_1_forte_normal.mp3\n",
            "colhido 332 de 600 = ./BasicsMusicalInstrumClassifi/audio/london_phill_dataset_multi/sax/saxophone_A3_025_forte_normal.mp3\n",
            "colhido 333 de 600 = ./BasicsMusicalInstrumClassifi/audio/london_phill_dataset_multi/sax/saxophone_Gs4_05_mezzo-forte_normal.mp3\n",
            "colhido 334 de 600 = ./BasicsMusicalInstrumClassifi/audio/london_phill_dataset_multi/sax/saxophone_A4_15_forte_normal.mp3\n",
            "colhido 335 de 600 = ./BasicsMusicalInstrumClassifi/audio/london_phill_dataset_multi/sax/saxophone_A4_15_fortissimo_normal.mp3\n",
            "colhido 336 de 600 = ./BasicsMusicalInstrumClassifi/audio/london_phill_dataset_multi/sax/saxophone_Ds4_05_pianissimo_subtone.mp3\n",
            "colhido 337 de 600 = ./BasicsMusicalInstrumClassifi/audio/london_phill_dataset_multi/sax/saxophone_Gs4_025_fortissimo_normal.mp3\n",
            "colhido 338 de 600 = ./BasicsMusicalInstrumClassifi/audio/london_phill_dataset_multi/sax/saxophone_Gs3_05_mezzo-piano_normal.mp3\n",
            "colhido 339 de 600 = ./BasicsMusicalInstrumClassifi/audio/london_phill_dataset_multi/sax/saxophone_Ds4_05_pianissimo_normal.mp3\n",
            "colhido 340 de 600 = ./BasicsMusicalInstrumClassifi/audio/london_phill_dataset_multi/sax/saxophone_Gs4_05_forte_normal.mp3\n",
            "colhido 341 de 600 = ./BasicsMusicalInstrumClassifi/audio/london_phill_dataset_multi/sax/saxophone_A3_05_piano_normal.mp3\n",
            "colhido 342 de 600 = ./BasicsMusicalInstrumClassifi/audio/london_phill_dataset_multi/sax/saxophone_Gs3_05_pianissimo_normal.mp3\n",
            "colhido 343 de 600 = ./BasicsMusicalInstrumClassifi/audio/london_phill_dataset_multi/sax/saxophone_Ds4_025_pianissimo_normal.mp3\n",
            "colhido 344 de 600 = ./BasicsMusicalInstrumClassifi/audio/london_phill_dataset_multi/sax/saxophone_Gs4_05_pianissimo_normal.mp3\n",
            "colhido 345 de 600 = ./BasicsMusicalInstrumClassifi/audio/london_phill_dataset_multi/sax/saxophone_A5_05_fortissimo_normal.mp3\n",
            "colhido 346 de 600 = ./BasicsMusicalInstrumClassifi/audio/london_phill_dataset_multi/sax/saxophone_Gs5_025_piano_normal.mp3\n",
            "colhido 347 de 600 = ./BasicsMusicalInstrumClassifi/audio/london_phill_dataset_multi/sax/saxophone_Gs5_05_pianissimo_normal.mp3\n",
            "colhido 348 de 600 = ./BasicsMusicalInstrumClassifi/audio/london_phill_dataset_multi/sax/saxophone_A3_15_forte_normal.mp3\n",
            "colhido 349 de 600 = ./BasicsMusicalInstrumClassifi/audio/london_phill_dataset_multi/sax/saxophone_A3_1_piano_normal.mp3\n",
            "colhido 350 de 600 = ./BasicsMusicalInstrumClassifi/audio/london_phill_dataset_multi/sax/saxophone_A5_05_pianissimo_normal.mp3\n",
            "colhido 351 de 600 = ./BasicsMusicalInstrumClassifi/audio/london_phill_dataset_multi/sax/saxophone_A3_05_forte_normal.mp3\n",
            "colhido 352 de 600 = ./BasicsMusicalInstrumClassifi/audio/london_phill_dataset_multi/sax/saxophone_Gs4_1_fortissimo_normal.mp3\n",
            "colhido 353 de 600 = ./BasicsMusicalInstrumClassifi/audio/london_phill_dataset_multi/sax/saxophone_A3_1_forte_normal.mp3\n",
            "colhido 354 de 600 = ./BasicsMusicalInstrumClassifi/audio/london_phill_dataset_multi/sax/saxophone_Gs5_15_forte_normal.mp3\n",
            "colhido 355 de 600 = ./BasicsMusicalInstrumClassifi/audio/london_phill_dataset_multi/sax/saxophone_A5_15_pianissimo_normal.mp3\n",
            "colhido 356 de 600 = ./BasicsMusicalInstrumClassifi/audio/london_phill_dataset_multi/sax/saxophone_Ds5_1_forte_minor-trill.mp3\n",
            "colhido 357 de 600 = ./BasicsMusicalInstrumClassifi/audio/london_phill_dataset_multi/sax/saxophone_Gs4_025_pianissimo_normal.mp3\n",
            "colhido 358 de 600 = ./BasicsMusicalInstrumClassifi/audio/london_phill_dataset_multi/sax/saxophone_A4_05_forte_normal.mp3\n",
            "colhido 359 de 600 = ./BasicsMusicalInstrumClassifi/audio/london_phill_dataset_multi/sax/saxophone_A5_05_forte_normal.mp3\n",
            "colhido 360 de 600 = ./BasicsMusicalInstrumClassifi/audio/london_phill_dataset_multi/sax/saxophone_A4_025_forte_normal.mp3\n",
            "colhido 361 de 600 = ./BasicsMusicalInstrumClassifi/audio/london_phill_dataset_multi/sax/saxophone_A5_15_forte_normal.mp3\n",
            "colhido 362 de 600 = ./BasicsMusicalInstrumClassifi/audio/london_phill_dataset_multi/sax/saxophone_Gs4_025_mezzo-forte_normal.mp3\n",
            "colhido 363 de 600 = ./BasicsMusicalInstrumClassifi/audio/london_phill_dataset_multi/sax/saxophone_Gs4_15_pianissimo_normal.mp3\n",
            "colhido 364 de 600 = ./BasicsMusicalInstrumClassifi/audio/london_phill_dataset_multi/sax/saxophone_Gs3_025_forte_normal.mp3\n",
            "colhido 365 de 600 = ./BasicsMusicalInstrumClassifi/audio/london_phill_dataset_multi/sax/saxophone_A5_1_piano_normal.mp3\n",
            "colhido 366 de 600 = ./BasicsMusicalInstrumClassifi/audio/london_phill_dataset_multi/sax/saxophone_Gs4_15_piano_normal.mp3\n",
            "colhido 367 de 600 = ./BasicsMusicalInstrumClassifi/audio/london_phill_dataset_multi/sax/saxophone_Ds4_05_mezzo-forte_normal.mp3\n",
            "colhido 368 de 600 = ./BasicsMusicalInstrumClassifi/audio/london_phill_dataset_multi/sax/saxophone_Ds4_05_piano_normal.mp3\n",
            "colhido 369 de 600 = ./BasicsMusicalInstrumClassifi/audio/london_phill_dataset_multi/sax/saxophone_A4_15_piano_normal.mp3\n",
            "colhido 370 de 600 = ./BasicsMusicalInstrumClassifi/audio/london_phill_dataset_multi/sax/saxophone_A4_025_piano_normal.mp3\n",
            "colhido 371 de 600 = ./BasicsMusicalInstrumClassifi/audio/london_phill_dataset_multi/sax/saxophone_Gs5_1_piano_normal.mp3\n",
            "colhido 372 de 600 = ./BasicsMusicalInstrumClassifi/audio/london_phill_dataset_multi/sax/saxophone_Gs5_15_pianissimo_normal.mp3\n",
            "colhido 373 de 600 = ./BasicsMusicalInstrumClassifi/audio/london_phill_dataset_multi/sax/saxophone_A4_1_fortissimo_normal.mp3\n",
            "colhido 374 de 600 = ./BasicsMusicalInstrumClassifi/audio/london_phill_dataset_multi/sax/saxophone_Gs3_05_fortissimo_normal.mp3\n",
            "colhido 375 de 600 = ./BasicsMusicalInstrumClassifi/audio/london_phill_dataset_multi/sax/saxophone_Gs4_15_forte_normal.mp3\n",
            "colhido 376 de 600 = ./BasicsMusicalInstrumClassifi/audio/london_phill_dataset_multi/sax/saxophone_A3_15_pianissimo_normal.mp3\n",
            "colhido 377 de 600 = ./BasicsMusicalInstrumClassifi/audio/london_phill_dataset_multi/sax/saxophone_Ds4_025_fortissimo_normal.mp3\n",
            "colhido 378 de 600 = ./BasicsMusicalInstrumClassifi/audio/london_phill_dataset_multi/sax/saxophone_Gs4_15_fortissimo_normal.mp3\n",
            "colhido 379 de 600 = ./BasicsMusicalInstrumClassifi/audio/london_phill_dataset_multi/sax/saxophone_Gs5_1_pianissimo_normal.mp3\n",
            "colhido 380 de 600 = ./BasicsMusicalInstrumClassifi/audio/london_phill_dataset_multi/sax/saxophone_A4_1_mezzo-forte_normal.mp3\n",
            "colhido 381 de 600 = ./BasicsMusicalInstrumClassifi/audio/london_phill_dataset_multi/sax/saxophone_A4_1_piano_normal.mp3\n",
            "colhido 382 de 600 = ./BasicsMusicalInstrumClassifi/audio/london_phill_dataset_multi/sax/saxophone_Gs5_1_fortissimo_normal.mp3\n",
            "colhido 383 de 600 = ./BasicsMusicalInstrumClassifi/audio/london_phill_dataset_multi/sax/saxophone_Ds5_1_forte_major-trill.mp3\n",
            "colhido 384 de 600 = ./BasicsMusicalInstrumClassifi/audio/london_phill_dataset_multi/sax/saxophone_A4_05_pianissimo_normal.mp3\n",
            "colhido 385 de 600 = ./BasicsMusicalInstrumClassifi/audio/london_phill_dataset_multi/sax/saxophone_Gs3_025_fortissimo_normal.mp3\n",
            "colhido 386 de 600 = ./BasicsMusicalInstrumClassifi/audio/london_phill_dataset_multi/sax/saxophone_Gs3_025_mezzo-piano_normal.mp3\n",
            "colhido 387 de 600 = ./BasicsMusicalInstrumClassifi/audio/london_phill_dataset_multi/sax/saxophone_Gs5_15_fortissimo_normal.mp3\n",
            "colhido 388 de 600 = ./BasicsMusicalInstrumClassifi/audio/london_phill_dataset_multi/sax/saxophone_A3_1_pianissimo_normal.mp3\n",
            "colhido 389 de 600 = ./BasicsMusicalInstrumClassifi/audio/london_phill_dataset_multi/sax/saxophone_A3_025_fortissimo_normal.mp3\n",
            "colhido 390 de 600 = ./BasicsMusicalInstrumClassifi/audio/london_phill_dataset_multi/sax/saxophone_Ds4_025_mezzo-forte_normal.mp3\n",
            "colhido 391 de 600 = ./BasicsMusicalInstrumClassifi/audio/london_phill_dataset_multi/sax/saxophone_Gs4_025_forte_normal.mp3\n",
            "colhido 392 de 600 = ./BasicsMusicalInstrumClassifi/audio/london_phill_dataset_multi/sax/saxophone_Gs4_1_piano_normal.mp3\n",
            "colhido 393 de 600 = ./BasicsMusicalInstrumClassifi/audio/london_phill_dataset_multi/sax/saxophone_A4_05_fortissimo_normal.mp3\n",
            "colhido 394 de 600 = ./BasicsMusicalInstrumClassifi/audio/london_phill_dataset_multi/sax/saxophone_Gs5_05_piano_normal.mp3\n",
            "colhido 395 de 600 = ./BasicsMusicalInstrumClassifi/audio/london_phill_dataset_multi/sax/saxophone_Gs3_15_fortissimo_normal.mp3\n",
            "colhido 396 de 600 = ./BasicsMusicalInstrumClassifi/audio/london_phill_dataset_multi/sax/saxophone_Gs5_05_fortissimo_normal.mp3\n",
            "colhido 397 de 600 = ./BasicsMusicalInstrumClassifi/audio/london_phill_dataset_multi/sax/saxophone_Gs5_025_forte_normal.mp3\n",
            "colhido 398 de 600 = ./BasicsMusicalInstrumClassifi/audio/london_phill_dataset_multi/sax/saxophone_A5_15_fortissimo_normal.mp3\n",
            "colhido 399 de 600 = ./BasicsMusicalInstrumClassifi/audio/london_phill_dataset_multi/sax/saxophone_A5_1_pianissimo_normal.mp3\n",
            "colhido 400 de 600 = ./BasicsMusicalInstrumClassifi/audio/london_phill_dataset_multi/sax/saxophone_Gs5_15_piano_normal.mp3\n",
            "colhido 401 de 600 = ./BasicsMusicalInstrumClassifi/audio/london_phill_dataset_multi/oboe/oboe_Ds6_05_fortissimo_normal.mp3\n",
            "colhido 402 de 600 = ./BasicsMusicalInstrumClassifi/audio/london_phill_dataset_multi/oboe/oboe_Gs4_1_fortissimo_normal.mp3\n",
            "colhido 403 de 600 = ./BasicsMusicalInstrumClassifi/audio/london_phill_dataset_multi/oboe/oboe_A5_1_forte_normal.mp3\n",
            "colhido 404 de 600 = ./BasicsMusicalInstrumClassifi/audio/london_phill_dataset_multi/oboe/oboe_Gs5_025_fortissimo_normal.mp3\n",
            "colhido 405 de 600 = ./BasicsMusicalInstrumClassifi/audio/london_phill_dataset_multi/oboe/oboe_A5_025_mezzo-forte_normal.mp3\n",
            "colhido 406 de 600 = ./BasicsMusicalInstrumClassifi/audio/london_phill_dataset_multi/oboe/oboe_A5_1_fortissimo_normal.mp3\n",
            "colhido 407 de 600 = ./BasicsMusicalInstrumClassifi/audio/london_phill_dataset_multi/oboe/oboe_Gs4_1_forte_major-trill.mp3\n",
            "colhido 408 de 600 = ./BasicsMusicalInstrumClassifi/audio/london_phill_dataset_multi/oboe/oboe_G6_025_forte_normal.mp3\n",
            "colhido 409 de 600 = ./BasicsMusicalInstrumClassifi/audio/london_phill_dataset_multi/oboe/oboe_A6_1_forte_major-trill.mp3\n",
            "colhido 410 de 600 = ./BasicsMusicalInstrumClassifi/audio/london_phill_dataset_multi/oboe/oboe_Gs6_15_mezzo-forte_normal.mp3\n",
            "colhido 411 de 600 = ./BasicsMusicalInstrumClassifi/audio/london_phill_dataset_multi/oboe/oboe_As3_1_mezzo-forte_normal.mp3\n",
            "colhido 412 de 600 = ./BasicsMusicalInstrumClassifi/audio/london_phill_dataset_multi/oboe/oboe_Gs5_15_forte_normal.mp3\n",
            "colhido 413 de 600 = ./BasicsMusicalInstrumClassifi/audio/london_phill_dataset_multi/oboe/oboe_Gs4_05_piano_normal.mp3\n",
            "colhido 414 de 600 = ./BasicsMusicalInstrumClassifi/audio/london_phill_dataset_multi/oboe/oboe_A4_05_piano_normal.mp3\n",
            "colhido 415 de 600 = ./BasicsMusicalInstrumClassifi/audio/london_phill_dataset_multi/oboe/oboe_Gs5_15_mezzo-forte_normal.mp3\n",
            "colhido 416 de 600 = ./BasicsMusicalInstrumClassifi/audio/london_phill_dataset_multi/oboe/oboe_A5_15_piano_normal.mp3\n",
            "colhido 417 de 600 = ./BasicsMusicalInstrumClassifi/audio/london_phill_dataset_multi/oboe/oboe_Gs4_15_forte_normal.mp3\n",
            "colhido 418 de 600 = ./BasicsMusicalInstrumClassifi/audio/london_phill_dataset_multi/oboe/oboe_A5_15_fortissimo_normal.mp3\n",
            "colhido 419 de 600 = ./BasicsMusicalInstrumClassifi/audio/london_phill_dataset_multi/oboe/oboe_Gs5_15_fortissimo_normal.mp3\n",
            "colhido 420 de 600 = ./BasicsMusicalInstrumClassifi/audio/london_phill_dataset_multi/oboe/oboe_Gs6_025_mezzo-forte_normal.mp3\n",
            "colhido 421 de 600 = ./BasicsMusicalInstrumClassifi/audio/london_phill_dataset_multi/oboe/oboe_Gs5_05_piano_normal.mp3\n",
            "colhido 422 de 600 = ./BasicsMusicalInstrumClassifi/audio/london_phill_dataset_multi/oboe/oboe_Gs6_1_forte_normal.mp3\n",
            "colhido 423 de 600 = ./BasicsMusicalInstrumClassifi/audio/london_phill_dataset_multi/oboe/oboe_Gs6_1_piano_normal.mp3\n",
            "colhido 424 de 600 = ./BasicsMusicalInstrumClassifi/audio/london_phill_dataset_multi/oboe/oboe_Gs4_05_mezzo-forte_normal.mp3\n",
            "colhido 425 de 600 = ./BasicsMusicalInstrumClassifi/audio/london_phill_dataset_multi/oboe/oboe_Gs4_1_forte_normal.mp3\n",
            "colhido 426 de 600 = ./BasicsMusicalInstrumClassifi/audio/london_phill_dataset_multi/oboe/oboe_Gs4_025_piano_normal.mp3\n",
            "colhido 427 de 600 = ./BasicsMusicalInstrumClassifi/audio/london_phill_dataset_multi/oboe/oboe_A4_1_mezzo-forte_normal.mp3\n",
            "colhido 428 de 600 = ./BasicsMusicalInstrumClassifi/audio/london_phill_dataset_multi/oboe/oboe_Gs4_15_fortissimo_normal.mp3\n",
            "colhido 429 de 600 = ./BasicsMusicalInstrumClassifi/audio/london_phill_dataset_multi/oboe/oboe_Gs4_025_fortissimo_normal.mp3\n",
            "colhido 430 de 600 = ./BasicsMusicalInstrumClassifi/audio/london_phill_dataset_multi/oboe/oboe_Ds6_05_piano_normal.mp3\n",
            "colhido 431 de 600 = ./BasicsMusicalInstrumClassifi/audio/london_phill_dataset_multi/oboe/oboe_As3_05_fortissimo_normal.mp3\n",
            "colhido 432 de 600 = ./BasicsMusicalInstrumClassifi/audio/london_phill_dataset_multi/oboe/oboe_Gs4_15_piano_normal.mp3\n",
            "colhido 433 de 600 = ./BasicsMusicalInstrumClassifi/audio/london_phill_dataset_multi/oboe/oboe_A5_1_forte_major-trill.mp3\n",
            "colhido 434 de 600 = ./BasicsMusicalInstrumClassifi/audio/london_phill_dataset_multi/oboe/oboe_As3_15_mezzo-forte_normal.mp3\n",
            "colhido 435 de 600 = ./BasicsMusicalInstrumClassifi/audio/london_phill_dataset_multi/oboe/oboe_A5_1_mezzo-forte_normal.mp3\n",
            "colhido 436 de 600 = ./BasicsMusicalInstrumClassifi/audio/london_phill_dataset_multi/oboe/oboe_A5_025_fortissimo_normal.mp3\n",
            "colhido 437 de 600 = ./BasicsMusicalInstrumClassifi/audio/london_phill_dataset_multi/oboe/oboe_As3_1_forte_normal.mp3\n",
            "colhido 438 de 600 = ./BasicsMusicalInstrumClassifi/audio/london_phill_dataset_multi/oboe/oboe_Gs4_05_forte_normal.mp3\n",
            "colhido 439 de 600 = ./BasicsMusicalInstrumClassifi/audio/london_phill_dataset_multi/oboe/oboe_A4_1_piano_normal.mp3\n",
            "colhido 440 de 600 = ./BasicsMusicalInstrumClassifi/audio/london_phill_dataset_multi/oboe/oboe_Gs5_15_piano_normal.mp3\n",
            "colhido 441 de 600 = ./BasicsMusicalInstrumClassifi/audio/london_phill_dataset_multi/oboe/oboe_Gs4_025_forte_normal.mp3\n",
            "colhido 442 de 600 = ./BasicsMusicalInstrumClassifi/audio/london_phill_dataset_multi/oboe/oboe_A4_15_forte_normal.mp3\n",
            "colhido 443 de 600 = ./BasicsMusicalInstrumClassifi/audio/london_phill_dataset_multi/oboe/oboe_A5_025_forte_normal.mp3\n",
            "colhido 444 de 600 = ./BasicsMusicalInstrumClassifi/audio/london_phill_dataset_multi/oboe/oboe_Gs6_025_forte_normal.mp3\n",
            "colhido 445 de 600 = ./BasicsMusicalInstrumClassifi/audio/london_phill_dataset_multi/oboe/oboe_Ds6_05_mezzo-forte_normal.mp3\n",
            "colhido 446 de 600 = ./BasicsMusicalInstrumClassifi/audio/london_phill_dataset_multi/oboe/oboe_Gs5_1_mezzo-forte_normal.mp3\n",
            "colhido 447 de 600 = ./BasicsMusicalInstrumClassifi/audio/london_phill_dataset_multi/oboe/oboe_G6_025_mezzo-forte_normal.mp3\n",
            "colhido 448 de 600 = ./BasicsMusicalInstrumClassifi/audio/london_phill_dataset_multi/oboe/oboe_Gs6_1_mezzo-forte_normal.mp3\n",
            "colhido 449 de 600 = ./BasicsMusicalInstrumClassifi/audio/london_phill_dataset_multi/oboe/oboe_As3_05_piano_normal.mp3\n",
            "colhido 450 de 600 = ./BasicsMusicalInstrumClassifi/audio/london_phill_dataset_multi/oboe/oboe_A4_1_fortissimo_normal.mp3\n",
            "colhido 451 de 600 = ./BasicsMusicalInstrumClassifi/audio/london_phill_dataset_multi/oboe/oboe_A5_1_forte_minor-trill.mp3\n",
            "colhido 452 de 600 = ./BasicsMusicalInstrumClassifi/audio/london_phill_dataset_multi/oboe/oboe_Gs6_025_piano_normal.mp3\n",
            "colhido 453 de 600 = ./BasicsMusicalInstrumClassifi/audio/london_phill_dataset_multi/oboe/oboe_Gs5_05_fortissimo_normal.mp3\n",
            "colhido 454 de 600 = ./BasicsMusicalInstrumClassifi/audio/london_phill_dataset_multi/oboe/oboe_Gs4_1_piano_normal.mp3\n",
            "colhido 455 de 600 = ./BasicsMusicalInstrumClassifi/audio/london_phill_dataset_multi/oboe/oboe_A5_15_mezzo-forte_normal.mp3\n",
            "colhido 456 de 600 = ./BasicsMusicalInstrumClassifi/audio/london_phill_dataset_multi/oboe/oboe_Gs5_1_fortissimo_normal.mp3\n",
            "colhido 457 de 600 = ./BasicsMusicalInstrumClassifi/audio/london_phill_dataset_multi/oboe/oboe_Gs4_025_mezzo-forte_normal.mp3\n",
            "colhido 458 de 600 = ./BasicsMusicalInstrumClassifi/audio/london_phill_dataset_multi/oboe/oboe_A5_05_piano_normal.mp3\n",
            "colhido 459 de 600 = ./BasicsMusicalInstrumClassifi/audio/london_phill_dataset_multi/oboe/oboe_As3_05_forte_normal.mp3\n",
            "colhido 460 de 600 = ./BasicsMusicalInstrumClassifi/audio/london_phill_dataset_multi/oboe/oboe_As3_15_forte_normal.mp3\n",
            "colhido 461 de 600 = ./BasicsMusicalInstrumClassifi/audio/london_phill_dataset_multi/oboe/oboe_Gs6_05_forte_normal.mp3\n",
            "colhido 462 de 600 = ./BasicsMusicalInstrumClassifi/audio/london_phill_dataset_multi/oboe/oboe_A5_05_fortissimo_normal.mp3\n",
            "colhido 463 de 600 = ./BasicsMusicalInstrumClassifi/audio/london_phill_dataset_multi/oboe/oboe_Gs5_025_mezzo-forte_normal.mp3\n",
            "colhido 464 de 600 = ./BasicsMusicalInstrumClassifi/audio/london_phill_dataset_multi/oboe/oboe_Gs5_025_piano_normal.mp3\n",
            "colhido 465 de 600 = ./BasicsMusicalInstrumClassifi/audio/london_phill_dataset_multi/oboe/oboe_A5_15_forte_normal.mp3\n",
            "colhido 466 de 600 = ./BasicsMusicalInstrumClassifi/audio/london_phill_dataset_multi/oboe/oboe_A4_025_fortissimo_normal.mp3\n",
            "colhido 467 de 600 = ./BasicsMusicalInstrumClassifi/audio/london_phill_dataset_multi/oboe/oboe_A4_025_forte_normal.mp3\n",
            "colhido 468 de 600 = ./BasicsMusicalInstrumClassifi/audio/london_phill_dataset_multi/oboe/oboe_A4_15_piano_normal.mp3\n",
            "colhido 469 de 600 = ./BasicsMusicalInstrumClassifi/audio/london_phill_dataset_multi/oboe/oboe_A6_1_forte_minor-trill.mp3\n",
            "colhido 470 de 600 = ./BasicsMusicalInstrumClassifi/audio/london_phill_dataset_multi/oboe/oboe_Gs5_1_forte_normal.mp3\n",
            "colhido 471 de 600 = ./BasicsMusicalInstrumClassifi/audio/london_phill_dataset_multi/oboe/oboe_A6_15_piano_normal.mp3\n",
            "colhido 472 de 600 = ./BasicsMusicalInstrumClassifi/audio/london_phill_dataset_multi/oboe/oboe_Ds6_15_forte_normal.mp3\n",
            "colhido 473 de 600 = ./BasicsMusicalInstrumClassifi/audio/london_phill_dataset_multi/oboe/oboe_Gs6_05_mezzo-forte_normal.mp3\n",
            "colhido 474 de 600 = ./BasicsMusicalInstrumClassifi/audio/london_phill_dataset_multi/oboe/oboe_A6_1_piano_normal.mp3\n",
            "colhido 475 de 600 = ./BasicsMusicalInstrumClassifi/audio/london_phill_dataset_multi/oboe/oboe_A6_05_piano_normal.mp3\n",
            "colhido 476 de 600 = ./BasicsMusicalInstrumClassifi/audio/london_phill_dataset_multi/oboe/oboe_G6_025_piano_normal.mp3\n",
            "colhido 477 de 600 = ./BasicsMusicalInstrumClassifi/audio/london_phill_dataset_multi/oboe/oboe_Gs4_1_forte_minor-trill.mp3\n",
            "colhido 478 de 600 = ./BasicsMusicalInstrumClassifi/audio/london_phill_dataset_multi/oboe/oboe_As3_05_mezzo-forte_normal.mp3\n",
            "colhido 479 de 600 = ./BasicsMusicalInstrumClassifi/audio/london_phill_dataset_multi/oboe/oboe_A6_025_piano_normal.mp3\n",
            "colhido 480 de 600 = ./BasicsMusicalInstrumClassifi/audio/london_phill_dataset_multi/oboe/oboe_A5_1_piano_normal.mp3\n",
            "colhido 481 de 600 = ./BasicsMusicalInstrumClassifi/audio/london_phill_dataset_multi/oboe/oboe_A4_025_piano_normal.mp3\n",
            "colhido 482 de 600 = ./BasicsMusicalInstrumClassifi/audio/london_phill_dataset_multi/oboe/oboe_Gs4_05_fortissimo_normal.mp3\n",
            "colhido 483 de 600 = ./BasicsMusicalInstrumClassifi/audio/london_phill_dataset_multi/oboe/oboe_As3_1_fortissimo_normal.mp3\n",
            "colhido 484 de 600 = ./BasicsMusicalInstrumClassifi/audio/london_phill_dataset_multi/oboe/oboe_A4_05_fortissimo_normal.mp3\n",
            "colhido 485 de 600 = ./BasicsMusicalInstrumClassifi/audio/london_phill_dataset_multi/oboe/oboe_A4_05_forte_normal.mp3\n",
            "colhido 486 de 600 = ./BasicsMusicalInstrumClassifi/audio/london_phill_dataset_multi/oboe/oboe_Gs6_15_forte_normal.mp3\n",
            "colhido 487 de 600 = ./BasicsMusicalInstrumClassifi/audio/london_phill_dataset_multi/oboe/oboe_A5_05_mezzo-forte_normal.mp3\n",
            "colhido 488 de 600 = ./BasicsMusicalInstrumClassifi/audio/london_phill_dataset_multi/oboe/oboe_As3_15_fortissimo_normal.mp3\n",
            "colhido 489 de 600 = ./BasicsMusicalInstrumClassifi/audio/london_phill_dataset_multi/oboe/oboe_Gs5_1_piano_normal.mp3\n",
            "colhido 490 de 600 = ./BasicsMusicalInstrumClassifi/audio/london_phill_dataset_multi/oboe/oboe_A5_025_piano_normal.mp3\n",
            "colhido 491 de 600 = ./BasicsMusicalInstrumClassifi/audio/london_phill_dataset_multi/oboe/oboe_As3_1_piano_normal.mp3\n",
            "colhido 492 de 600 = ./BasicsMusicalInstrumClassifi/audio/london_phill_dataset_multi/oboe/oboe_A5_05_forte_normal.mp3\n",
            "colhido 493 de 600 = ./BasicsMusicalInstrumClassifi/audio/london_phill_dataset_multi/oboe/oboe_Gs4_1_mezzo-forte_normal.mp3\n",
            "colhido 494 de 600 = ./BasicsMusicalInstrumClassifi/audio/london_phill_dataset_multi/oboe/oboe_Gs5_025_forte_normal.mp3\n",
            "colhido 495 de 600 = ./BasicsMusicalInstrumClassifi/audio/london_phill_dataset_multi/oboe/oboe_A4_1_forte_normal.mp3\n",
            "colhido 496 de 600 = ./BasicsMusicalInstrumClassifi/audio/london_phill_dataset_multi/oboe/oboe_Gs5_05_forte_normal.mp3\n",
            "colhido 497 de 600 = ./BasicsMusicalInstrumClassifi/audio/london_phill_dataset_multi/oboe/oboe_Gs6_15_piano_normal.mp3\n",
            "colhido 498 de 600 = ./BasicsMusicalInstrumClassifi/audio/london_phill_dataset_multi/oboe/oboe_Gs5_05_mezzo-forte_normal.mp3\n",
            "colhido 499 de 600 = ./BasicsMusicalInstrumClassifi/audio/london_phill_dataset_multi/oboe/oboe_Gs6_05_piano_normal.mp3\n",
            "colhido 500 de 600 = ./BasicsMusicalInstrumClassifi/audio/london_phill_dataset_multi/oboe/oboe_Gs4_15_mezzo-forte_normal.mp3\n",
            "colhido 501 de 600 = ./BasicsMusicalInstrumClassifi/audio/london_phill_dataset_multi/viola/viola_Gs4_15_mezzo-piano_arco-normal.mp3\n",
            "colhido 502 de 600 = ./BasicsMusicalInstrumClassifi/audio/london_phill_dataset_multi/viola/viola_A4_05_fortissimo_arco-normal.mp3\n",
            "colhido 503 de 600 = ./BasicsMusicalInstrumClassifi/audio/london_phill_dataset_multi/viola/viola_Gs5_15_fortissimo_arco-normal.mp3\n",
            "colhido 504 de 600 = ./BasicsMusicalInstrumClassifi/audio/london_phill_dataset_multi/viola/viola_A4_1_fortissimo_snap-pizz.mp3\n",
            "colhido 505 de 600 = ./BasicsMusicalInstrumClassifi/audio/london_phill_dataset_multi/viola/viola_Gs6_025_forte_arco-normal.mp3\n",
            "colhido 506 de 600 = ./BasicsMusicalInstrumClassifi/audio/london_phill_dataset_multi/viola/viola_Ds3_1_piano_pizz-normal.mp3\n",
            "colhido 507 de 600 = ./BasicsMusicalInstrumClassifi/audio/london_phill_dataset_multi/viola/viola_A5_1_forte_arco-normal.mp3\n",
            "colhido 508 de 600 = ./BasicsMusicalInstrumClassifi/audio/london_phill_dataset_multi/viola/viola_Gs6_05_forte_arco-normal.mp3\n",
            "colhido 509 de 600 = ./BasicsMusicalInstrumClassifi/audio/london_phill_dataset_multi/viola/viola_A4_1_mezzo-forte_arco-minor-trill.mp3\n",
            "colhido 510 de 600 = ./BasicsMusicalInstrumClassifi/audio/london_phill_dataset_multi/viola/viola_A4_025_piano_arco-normal.mp3\n",
            "colhido 511 de 600 = ./BasicsMusicalInstrumClassifi/audio/london_phill_dataset_multi/viola/viola_Gs6_05_piano_arco-normal.mp3\n",
            "colhido 512 de 600 = ./BasicsMusicalInstrumClassifi/audio/london_phill_dataset_multi/viola/viola_Gs4_05_piano_arco-normal.mp3\n",
            "colhido 513 de 600 = ./BasicsMusicalInstrumClassifi/audio/london_phill_dataset_multi/viola/viola_Gs6_025_mezzo-piano_arco-normal.mp3\n",
            "colhido 514 de 600 = ./BasicsMusicalInstrumClassifi/audio/london_phill_dataset_multi/viola/viola_A5_1_fortissimo_arco-normal.mp3\n",
            "colhido 515 de 600 = ./BasicsMusicalInstrumClassifi/audio/london_phill_dataset_multi/viola/viola_Gs4_1_piano_arco-normal.mp3\n",
            "colhido 516 de 600 = ./BasicsMusicalInstrumClassifi/audio/london_phill_dataset_multi/viola/viola_A3_025_pianissimo_arco-normal.mp3\n",
            "colhido 517 de 600 = ./BasicsMusicalInstrumClassifi/audio/london_phill_dataset_multi/viola/viola_A3_1_mezzo-forte_molto-vibrato.mp3\n",
            "colhido 518 de 600 = ./BasicsMusicalInstrumClassifi/audio/london_phill_dataset_multi/viola/viola_Gs5_1_forte_arco-normal.mp3\n",
            "colhido 519 de 600 = ./BasicsMusicalInstrumClassifi/audio/london_phill_dataset_multi/viola/viola_Gs5_05_piano_arco-normal.mp3\n",
            "colhido 520 de 600 = ./BasicsMusicalInstrumClassifi/audio/london_phill_dataset_multi/viola/viola_Gs5_025_pianissimo_arco-normal.mp3\n",
            "colhido 521 de 600 = ./BasicsMusicalInstrumClassifi/audio/london_phill_dataset_multi/viola/viola_Gs6_025_pianissimo_arco-normal.mp3\n",
            "colhido 522 de 600 = ./BasicsMusicalInstrumClassifi/audio/london_phill_dataset_multi/viola/viola_Gs4_1_fortissimo_arco-normal.mp3\n",
            "colhido 523 de 600 = ./BasicsMusicalInstrumClassifi/audio/london_phill_dataset_multi/viola/viola_A3_05_pianissimo_arco-normal.mp3\n",
            "colhido 524 de 600 = ./BasicsMusicalInstrumClassifi/audio/london_phill_dataset_multi/viola/viola_A4_15_piano_arco-normal.mp3\n",
            "colhido 525 de 600 = ./BasicsMusicalInstrumClassifi/audio/london_phill_dataset_multi/viola/viola_Gs3_025_pianissimo_arco-normal.mp3\n",
            "colhido 526 de 600 = ./BasicsMusicalInstrumClassifi/audio/london_phill_dataset_multi/viola/viola_A3_1_piano_arco-glissando.mp3\n",
            "colhido 527 de 600 = ./BasicsMusicalInstrumClassifi/audio/london_phill_dataset_multi/viola/viola_Gs5_025_mezzo-piano_arco-normal.mp3\n",
            "colhido 528 de 600 = ./BasicsMusicalInstrumClassifi/audio/london_phill_dataset_multi/viola/viola_A3_1_forte_arco-normal.mp3\n",
            "colhido 529 de 600 = ./BasicsMusicalInstrumClassifi/audio/london_phill_dataset_multi/viola/viola_Gs4_025_pianissimo_arco-normal.mp3\n",
            "colhido 530 de 600 = ./BasicsMusicalInstrumClassifi/audio/london_phill_dataset_multi/viola/viola_A4_025_mezzo-piano_arco-normal.mp3\n",
            "colhido 531 de 600 = ./BasicsMusicalInstrumClassifi/audio/london_phill_dataset_multi/viola/viola_Gs5_05_fortissimo_arco-normal.mp3\n",
            "colhido 532 de 600 = ./BasicsMusicalInstrumClassifi/audio/london_phill_dataset_multi/viola/viola_Gs5_15_pianissimo_arco-normal.mp3\n",
            "colhido 533 de 600 = ./BasicsMusicalInstrumClassifi/audio/london_phill_dataset_multi/viola/viola_A3_1_mezzo-piano_non-vibrato.mp3\n",
            "colhido 534 de 600 = ./BasicsMusicalInstrumClassifi/audio/london_phill_dataset_multi/viola/viola_A3_1_pianissimo_arco-normal.mp3\n",
            "colhido 535 de 600 = ./BasicsMusicalInstrumClassifi/audio/london_phill_dataset_multi/viola/viola_Gs6_1_fortissimo_arco-normal.mp3\n",
            "colhido 536 de 600 = ./BasicsMusicalInstrumClassifi/audio/london_phill_dataset_multi/viola/viola_A3_05_piano_arco-normal.mp3\n",
            "colhido 537 de 600 = ./BasicsMusicalInstrumClassifi/audio/london_phill_dataset_multi/viola/viola_Gs4_15_pianissimo_arco-normal.mp3\n",
            "colhido 538 de 600 = ./BasicsMusicalInstrumClassifi/audio/london_phill_dataset_multi/viola/viola_A3_1_fortissimo_pizz-normal.mp3\n",
            "colhido 539 de 600 = ./BasicsMusicalInstrumClassifi/audio/london_phill_dataset_multi/viola/viola_Gs4_05_pianissimo_arco-normal.mp3\n",
            "colhido 540 de 600 = ./BasicsMusicalInstrumClassifi/audio/london_phill_dataset_multi/viola/viola_Gs4_025_mezzo-piano_arco-normal.mp3\n",
            "colhido 541 de 600 = ./BasicsMusicalInstrumClassifi/audio/london_phill_dataset_multi/viola/viola_A4_1_mezzo-piano_non-vibrato.mp3\n",
            "colhido 542 de 600 = ./BasicsMusicalInstrumClassifi/audio/london_phill_dataset_multi/viola/viola_Gs5_025_fortissimo_arco-normal.mp3\n",
            "colhido 543 de 600 = ./BasicsMusicalInstrumClassifi/audio/london_phill_dataset_multi/viola/viola_A4_05_piano_arco-normal.mp3\n",
            "colhido 544 de 600 = ./BasicsMusicalInstrumClassifi/audio/london_phill_dataset_multi/viola/viola_Gs3_15_piano_arco-normal.mp3\n",
            "colhido 545 de 600 = ./BasicsMusicalInstrumClassifi/audio/london_phill_dataset_multi/viola/viola_Gs3_025_piano_arco-normal.mp3\n",
            "colhido 546 de 600 = ./BasicsMusicalInstrumClassifi/audio/london_phill_dataset_multi/viola/viola_Gs6_025_fortissimo_arco-normal.mp3\n",
            "colhido 547 de 600 = ./BasicsMusicalInstrumClassifi/audio/london_phill_dataset_multi/viola/viola_Gs5_05_forte_arco-normal.mp3\n",
            "colhido 548 de 600 = ./BasicsMusicalInstrumClassifi/audio/london_phill_dataset_multi/viola/viola_A4_05_pianissimo_arco-normal.mp3\n",
            "colhido 549 de 600 = ./BasicsMusicalInstrumClassifi/audio/london_phill_dataset_multi/viola/viola_A4_1_piano_arco-glissando.mp3\n",
            "colhido 550 de 600 = ./BasicsMusicalInstrumClassifi/audio/london_phill_dataset_multi/viola/viola_Gs3_025_fortissimo_arco-normal.mp3\n",
            "colhido 551 de 600 = ./BasicsMusicalInstrumClassifi/audio/london_phill_dataset_multi/viola/viola_Gs6_15_forte_arco-normal.mp3\n",
            "colhido 552 de 600 = ./BasicsMusicalInstrumClassifi/audio/london_phill_dataset_multi/viola/viola_A4_1_mezzo-forte_molto-vibrato.mp3\n",
            "colhido 553 de 600 = ./BasicsMusicalInstrumClassifi/audio/london_phill_dataset_multi/viola/viola_A5_1_pianissimo_arco-normal.mp3\n",
            "colhido 554 de 600 = ./BasicsMusicalInstrumClassifi/audio/london_phill_dataset_multi/viola/viola_A4_15_pianissimo_arco-normal.mp3\n",
            "colhido 555 de 600 = ./BasicsMusicalInstrumClassifi/audio/london_phill_dataset_multi/viola/viola_A4_1_forte_arco-normal.mp3\n",
            "colhido 556 de 600 = ./BasicsMusicalInstrumClassifi/audio/london_phill_dataset_multi/viola/viola_Gs3_15_fortissimo_arco-normal.mp3\n",
            "colhido 557 de 600 = ./BasicsMusicalInstrumClassifi/audio/london_phill_dataset_multi/viola/viola_A4_15_fortissimo_arco-normal.mp3\n",
            "colhido 558 de 600 = ./BasicsMusicalInstrumClassifi/audio/london_phill_dataset_multi/viola/viola_Ds3_05_mezzo-piano_arco-normal.mp3\n",
            "colhido 559 de 600 = ./BasicsMusicalInstrumClassifi/audio/london_phill_dataset_multi/viola/viola_Gs4_025_fortissimo_arco-normal.mp3\n",
            "colhido 560 de 600 = ./BasicsMusicalInstrumClassifi/audio/london_phill_dataset_multi/viola/viola_A4_1_piano_arco-normal.mp3\n",
            "colhido 561 de 600 = ./BasicsMusicalInstrumClassifi/audio/london_phill_dataset_multi/viola/viola_A4_025_pianissimo_arco-normal.mp3\n",
            "colhido 562 de 600 = ./BasicsMusicalInstrumClassifi/audio/london_phill_dataset_multi/viola/viola_Gs5_1_fortissimo_snap-pizz.mp3\n",
            "colhido 563 de 600 = ./BasicsMusicalInstrumClassifi/audio/london_phill_dataset_multi/viola/viola_Gs5_1_fortissimo_arco-normal.mp3\n",
            "colhido 564 de 600 = ./BasicsMusicalInstrumClassifi/audio/london_phill_dataset_multi/viola/viola_Gs4_15_fortissimo_arco-normal.mp3\n",
            "colhido 565 de 600 = ./BasicsMusicalInstrumClassifi/audio/london_phill_dataset_multi/viola/viola_Gs6_025_piano_arco-normal.mp3\n",
            "colhido 566 de 600 = ./BasicsMusicalInstrumClassifi/audio/london_phill_dataset_multi/viola/viola_Gs3_025_mezzo-piano_arco-normal.mp3\n",
            "colhido 567 de 600 = ./BasicsMusicalInstrumClassifi/audio/london_phill_dataset_multi/viola/viola_Gs6_1_forte_arco-normal.mp3\n",
            "colhido 568 de 600 = ./BasicsMusicalInstrumClassifi/audio/london_phill_dataset_multi/viola/viola_Gs5_1_pianissimo_arco-normal.mp3\n",
            "colhido 569 de 600 = ./BasicsMusicalInstrumClassifi/audio/london_phill_dataset_multi/viola/viola_Gs6_05_fortissimo_arco-normal.mp3\n",
            "colhido 570 de 600 = ./BasicsMusicalInstrumClassifi/audio/london_phill_dataset_multi/viola/viola_A3_025_piano_arco-normal.mp3\n",
            "colhido 571 de 600 = ./BasicsMusicalInstrumClassifi/audio/london_phill_dataset_multi/viola/viola_Gs4_1_pianissimo_arco-normal.mp3\n",
            "colhido 572 de 600 = ./BasicsMusicalInstrumClassifi/audio/london_phill_dataset_multi/viola/viola_Gs3_15_pianissimo_arco-normal.mp3\n",
            "colhido 573 de 600 = ./BasicsMusicalInstrumClassifi/audio/london_phill_dataset_multi/viola/viola_A3_05_fortissimo_arco-normal.mp3\n",
            "colhido 574 de 600 = ./BasicsMusicalInstrumClassifi/audio/london_phill_dataset_multi/viola/viola_Gs6_15_fortissimo_arco-normal.mp3\n",
            "colhido 575 de 600 = ./BasicsMusicalInstrumClassifi/audio/london_phill_dataset_multi/viola/viola_Gs5_1_piano_arco-normal.mp3\n",
            "colhido 576 de 600 = ./BasicsMusicalInstrumClassifi/audio/london_phill_dataset_multi/viola/viola_A3_1_piano_arco-normal.mp3\n",
            "colhido 577 de 600 = ./BasicsMusicalInstrumClassifi/audio/london_phill_dataset_multi/viola/viola_A3_15_piano_arco-normal.mp3\n",
            "colhido 578 de 600 = ./BasicsMusicalInstrumClassifi/audio/london_phill_dataset_multi/viola/viola_A3_15_fortissimo_arco-normal.mp3\n",
            "colhido 579 de 600 = ./BasicsMusicalInstrumClassifi/audio/london_phill_dataset_multi/viola/viola_A4_1_piano_pizz-normal.mp3\n",
            "colhido 580 de 600 = ./BasicsMusicalInstrumClassifi/audio/london_phill_dataset_multi/viola/viola_A4_025_fortissimo_arco-normal.mp3\n",
            "colhido 581 de 600 = ./BasicsMusicalInstrumClassifi/audio/london_phill_dataset_multi/viola/viola_A4_05_forte_arco-normal.mp3\n",
            "colhido 582 de 600 = ./BasicsMusicalInstrumClassifi/audio/london_phill_dataset_multi/viola/viola_A3_15_forte_arco-normal.mp3\n",
            "colhido 583 de 600 = ./BasicsMusicalInstrumClassifi/audio/london_phill_dataset_multi/viola/viola_Ds3_05_fortissimo_arco-normal.mp3\n",
            "colhido 584 de 600 = ./BasicsMusicalInstrumClassifi/audio/london_phill_dataset_multi/viola/viola_A4_1_pianissimo_arco-normal.mp3\n",
            "colhido 585 de 600 = ./BasicsMusicalInstrumClassifi/audio/london_phill_dataset_multi/viola/viola_Gs4_05_fortissimo_arco-normal.mp3\n",
            "colhido 586 de 600 = ./BasicsMusicalInstrumClassifi/audio/london_phill_dataset_multi/viola/viola_A4_1_mezzo-forte_arco-major-trill.mp3\n",
            "colhido 587 de 600 = ./BasicsMusicalInstrumClassifi/audio/london_phill_dataset_multi/viola/viola_A5_1_mezzo-forte_artificial-harmonic.mp3\n",
            "colhido 588 de 600 = ./BasicsMusicalInstrumClassifi/audio/london_phill_dataset_multi/viola/viola_A4_05_mezzo-piano_arco-normal.mp3\n",
            "colhido 589 de 600 = ./BasicsMusicalInstrumClassifi/audio/london_phill_dataset_multi/viola/viola_A3_05_mezzo-piano_arco-normal.mp3\n",
            "colhido 590 de 600 = ./BasicsMusicalInstrumClassifi/audio/london_phill_dataset_multi/viola/viola_Gs5_025_forte_arco-normal.mp3\n",
            "colhido 591 de 600 = ./BasicsMusicalInstrumClassifi/audio/london_phill_dataset_multi/viola/viola_A3_025_fortissimo_arco-normal.mp3\n",
            "colhido 592 de 600 = ./BasicsMusicalInstrumClassifi/audio/london_phill_dataset_multi/viola/viola_A3_025_mezzo-piano_arco-normal.mp3\n",
            "colhido 593 de 600 = ./BasicsMusicalInstrumClassifi/audio/london_phill_dataset_multi/viola/viola_A3_1_fortissimo_arco-normal.mp3\n",
            "colhido 594 de 600 = ./BasicsMusicalInstrumClassifi/audio/london_phill_dataset_multi/viola/viola_Gs5_05_pianissimo_arco-normal.mp3\n",
            "colhido 595 de 600 = ./BasicsMusicalInstrumClassifi/audio/london_phill_dataset_multi/viola/viola_A4_1_fortissimo_arco-normal.mp3\n",
            "colhido 596 de 600 = ./BasicsMusicalInstrumClassifi/audio/london_phill_dataset_multi/viola/viola_Gs4_05_mezzo-piano_arco-normal.mp3\n",
            "colhido 597 de 600 = ./BasicsMusicalInstrumClassifi/audio/london_phill_dataset_multi/viola/viola_A3_1_piano_pizz-normal.mp3\n",
            "colhido 598 de 600 = ./BasicsMusicalInstrumClassifi/audio/london_phill_dataset_multi/viola/viola_Gs6_1_pianissimo_arco-normal.mp3\n",
            "colhido 599 de 600 = ./BasicsMusicalInstrumClassifi/audio/london_phill_dataset_multi/viola/viola_Gs6_05_pianissimo_arco-normal.mp3\n",
            "colhido 600 de 600 = ./BasicsMusicalInstrumClassifi/audio/london_phill_dataset_multi/viola/viola_Gs4_1_mezzo-piano_arco-normal.mp3\n",
            "Cálculos 600 feature_vectors\n"
          ],
          "name": "stdout"
        }
      ]
    },
    {
      "cell_type": "code",
      "metadata": {
        "colab": {
          "base_uri": "https://localhost:8080/"
        },
        "id": "UXUSOoc_XOLB",
        "outputId": "726da6c1-e791-4beb-f622-80b05b3421b9"
      },
      "source": [
        "# Alteração_dados_com_StandardScaler\n",
        "scaler = StandardScaler()\n",
        "scaled_feature_vectors = scaler.fit_transform(np.array(feature_vectors))\n",
        "print(\"Formato_feature_vectors:\",scaled_feature_vectors.shape)"
      ],
      "execution_count": null,
      "outputs": [
        {
          "output_type": "stream",
          "text": [
            "Formato_feature_vectors: (600, 13)\n"
          ],
          "name": "stdout"
        }
      ]
    },
    {
      "cell_type": "markdown",
      "metadata": {
        "id": "QwVH7p8WkavP"
      },
      "source": [
        "Separação_treino_teste"
      ]
    },
    {
      "cell_type": "code",
      "metadata": {
        "id": "3ibSs583XVIg"
      },
      "source": [
        "# Divisão_treino_teste: trocada a cada simulação\n",
        "splitter = StratifiedShuffleSplit(n_splits=1, test_size=testset_size, random_state=0)\n",
        "splits = splitter.split(scaled_feature_vectors, classes_num)\n",
        "for train_index, test_index in splits:\n",
        "    train_set = scaled_feature_vectors[train_index]\n",
        "    test_set = scaled_feature_vectors[test_index]\n",
        "    train_classes = classes_num[train_index]\n",
        "    test_classes = classes_num[test_index]"
      ],
      "execution_count": null,
      "outputs": []
    },
    {
      "cell_type": "code",
      "metadata": {
        "colab": {
          "base_uri": "https://localhost:8080/"
        },
        "id": "WuLDWkN5XYu5",
        "outputId": "753f408f-e8f5-4d47-c05f-732c90476b1a"
      },
      "source": [
        "# Confirmação_formatos_shapes: confirmado a cada simulação\n",
        "print(\"train_set shape:\",train_set.shape)\n",
        "print(\"test_set shape:\",test_set.shape)\n",
        "print(\"train_classes shape:\",train_classes.shape)\n",
        "print(\"test_classes shape:\",test_classes.shape)"
      ],
      "execution_count": null,
      "outputs": [
        {
          "output_type": "stream",
          "text": [
            "train_set shape: (450, 13)\n",
            "test_set shape: (150, 13)\n",
            "train_classes shape: (450,)\n",
            "test_classes shape: (150,)\n"
          ],
          "name": "stdout"
        }
      ]
    },
    {
      "cell_type": "markdown",
      "metadata": {
        "id": "3ThlL1pBkrnx"
      },
      "source": [
        "Classicador_KNN"
      ]
    },
    {
      "cell_type": "code",
      "metadata": {
        "id": "WQaj91GpXcHc"
      },
      "source": [
        "# Definição_KNN_model\n",
        "n_neighbors= 100\n",
        "model_knn = KNeighborsClassifier(n_neighbors=n_neighbors)"
      ],
      "execution_count": null,
      "outputs": []
    },
    {
      "cell_type": "code",
      "metadata": {
        "id": "Q7q3Nad7Xh5Q"
      },
      "source": [
        "# Ajuste_KNN\n",
        "model_knn.fit(train_set, train_classes);"
      ],
      "execution_count": null,
      "outputs": []
    },
    {
      "cell_type": "markdown",
      "metadata": {
        "id": "b6XYCc_Bk5_m"
      },
      "source": [
        "Predição"
      ]
    },
    {
      "cell_type": "code",
      "metadata": {
        "id": "feB5IzaQZpFo"
      },
      "source": [
        "# Aplicação_modelo_desenvolvido\n",
        "predicted_labels = model_knn.predict(test_set)"
      ],
      "execution_count": null,
      "outputs": []
    },
    {
      "cell_type": "markdown",
      "metadata": {
        "id": "ixeHISAQlJ9F"
      },
      "source": [
        "Métricas"
      ]
    },
    {
      "cell_type": "code",
      "metadata": {
        "colab": {
          "base_uri": "https://localhost:8080/"
        },
        "id": "wHyJ9g2DZsuJ",
        "outputId": "ef7c2ab0-35f4-4e7e-b27a-d03925a263dd"
      },
      "source": [
        "# Recall - identificação_todos_positivos\n",
        "print(\"Recall: \", recall_score(test_classes, predicted_labels,average=None))\n",
        "# Precision - identificação_discernimento_positivo_negativo\n",
        "print(\"Precision: \", precision_score(test_classes, predicted_labels,average=None))\n",
        "# F1-Score - ponderação_recall_precision\n",
        "print(\"F1-Score: \", f1_score(test_classes, predicted_labels, average=None))\n",
        "# Accuracy - quantidade_previsões_certas\n",
        "print(\"Accuracy: %.2f  ,\" % accuracy_score(test_classes, predicted_labels,normalize=True), accuracy_score(test_classes, predicted_labels,normalize=False) )\n",
        "print(\"Número_amostras:\",test_classes.shape[0])"
      ],
      "execution_count": null,
      "outputs": [
        {
          "output_type": "stream",
          "text": [
            "Recall:  [0.92 0.72 0.64 0.56 0.96 0.88]\n",
            "Precision:  [0.71875    0.69230769 0.84210526 0.93333333 0.70588235 0.91666667]\n",
            "F1-Score:  [0.80701754 0.70588235 0.72727273 0.7        0.81355932 0.89795918]\n",
            "Accuracy: 0.78  , 117\n",
            "Número_amostras: 150\n"
          ],
          "name": "stdout"
        }
      ]
    },
    {
      "cell_type": "markdown",
      "metadata": {
        "id": "hjq1Z6cBlU6s"
      },
      "source": [
        "Matriz de Confusão"
      ]
    },
    {
      "cell_type": "code",
      "metadata": {
        "id": "fb_t1p7pZz14"
      },
      "source": [
        "# Execução_Matriz_Confusão\n",
        "cnf_matrix = confusion_matrix(test_classes, predicted_labels)\n",
        "np.set_printoptions(precision=2)"
      ],
      "execution_count": null,
      "outputs": []
    },
    {
      "cell_type": "markdown",
      "metadata": {
        "id": "nNhuM8V8lZ6D"
      },
      "source": [
        "Plotagem_Matriz"
      ]
    },
    {
      "cell_type": "code",
      "metadata": {
        "id": "J64gI8-ZZ4tv"
      },
      "source": [
        "# Plotagem_Matriz_Confusão\n",
        "# http://scikit-learn.org/stable/auto_examples/model_selection/plot_confusion_matrix.html\n",
        "def plot_confusion_matrix(cm, classes,\n",
        "                          normalize=False,\n",
        "                          title='Confusion matrix',\n",
        "                          cmap=plt.cm.Blues):\n",
        "    \"\"\"\n",
        "    This function prints and plots the confusion matrix.\n",
        "    Normalization can be applied by setting `normalize=True`.\n",
        "    \n",
        "    if normalize:\n",
        "        cm = cm.astype('float') / cm.sum(axis=1)[:, np.newaxis]\n",
        "        print(\"matriz_confusão_normalizada\")\n",
        "    else:\n",
        "        print('matriz_confusão_não_normalizada')\n",
        "    \"\"\"\n",
        "    #print(cm)\n",
        "\n",
        "    plt.imshow(cm, interpolation='nearest', cmap=cmap)\n",
        "    plt.title(title)\n",
        "    plt.colorbar()\n",
        "    tick_marks = np.arange(len(classes))\n",
        "    plt.xticks(tick_marks, classes, rotation=45)\n",
        "    plt.yticks(tick_marks, classes)\n",
        "\n",
        "    fmt = '.2f' if normalize else 'd'\n",
        "    thresh = cm.max() / 2.\n",
        "    for i, j in itertools.product(range(cm.shape[0]), range(cm.shape[1])):\n",
        "        plt.text(j, i, format(cm[i, j], fmt),\n",
        "                 horizontalalignment=\"center\",\n",
        "                 color=\"white\" if cm[i, j] > thresh else \"black\")\n",
        "\n",
        "    plt.tight_layout()\n",
        "    plt.ylabel('Verdadeiro')\n",
        "    plt.xlabel('Predito')"
      ],
      "execution_count": null,
      "outputs": []
    },
    {
      "cell_type": "code",
      "metadata": {
        "colab": {
          "base_uri": "https://localhost:8080/",
          "height": 959
        },
        "id": "kLjpHpgEZ-tP",
        "outputId": "a78953dc-c744-4bc5-81ce-01bbbf0f23a4"
      },
      "source": [
        "# MC_não_normalizada\n",
        "plt.figure(figsize=(18,13))\n",
        "plot_confusion_matrix(cnf_matrix, classes=labelencoder.classes_,\n",
        "                      title='matriz_confusão_sem_normalização')"
      ],
      "execution_count": null,
      "outputs": [
        {
          "output_type": "display_data",
          "data": {
            "image/png": "[encoded data removed]",
            "text/plain": [
              "<Figure size 1296x936 with 2 Axes>"
            ]
          },
          "metadata": {
            "tags": [],
            "needs_background": "light"
          }
        }
      ]
    },
    {
      "cell_type": "markdown",
      "metadata": {
        "id": "DtfWwwfdlsA7"
      },
      "source": [
        "Valores_preditos_erroneamente"
      ]
    },
    {
      "cell_type": "code",
      "metadata": {
        "id": "Tl7EtYqWaENe"
      },
      "source": [
        "# Exemplos_preditos_incorretamente\n",
        "#wrong_predictions = [i for i, (e1, e2) in enumerate(zip(test_classes, predicted_labels)) if e1 != e2]\n",
        "wrong_predictions = [i for i, (e1, e2) in enumerate(zip(predicted_labels,test_classes)) if e1 != e2]"
      ],
      "execution_count": null,
      "outputs": []
    },
    {
      "cell_type": "code",
      "metadata": {
        "colab": {
          "base_uri": "https://localhost:8080/"
        },
        "id": "h9YTrKpKaL95",
        "outputId": "290599aa-44e2-4005-d3c3-4ac9dc8e0a89"
      },
      "source": [
        "# Predições_incorretas\n",
        "print(np.array(labels)[test_index[wrong_predictions]])\n",
        "print(predicted_labels[wrong_predictions].T)\n",
        "print(labelencoder.inverse_transform(predicted_labels[wrong_predictions]))\n",
        "print(np.array(files)[test_index[wrong_predictions]])"
      ],
      "execution_count": null,
      "outputs": [
        {
          "output_type": "stream",
          "text": [
            "['sax' 'sax' 'viola' 'oboe' 'oboe' 'cello' 'sax' 'sax' 'viola' 'viola'\n",
            " 'cello']\n",
            "[4 5 4 4 4 5 5 4 0 0 5]\n",
            "['trumpet' 'viola' 'trumpet' 'trumpet' 'trumpet' 'viola' 'viola' 'trumpet'\n",
            " 'cello' 'cello' 'viola']\n",
            "['./BasicsMusicalInstrumClassifi/audio/london_phill_dataset_multi/sax/saxophone_Ds5_1_forte_minor-trill.mp3'\n",
            " './BasicsMusicalInstrumClassifi/audio/london_phill_dataset_multi/sax/saxophone_Ds4_05_pianissimo_subtone.mp3'\n",
            " './BasicsMusicalInstrumClassifi/audio/london_phill_dataset_multi/viola/viola_Gs5_1_fortissimo_snap-pizz.mp3'\n",
            " './BasicsMusicalInstrumClassifi/audio/london_phill_dataset_multi/oboe/oboe_As3_15_mezzo-forte_normal.mp3'\n",
            " './BasicsMusicalInstrumClassifi/audio/london_phill_dataset_multi/oboe/oboe_As3_1_mezzo-forte_normal.mp3'\n",
            " './BasicsMusicalInstrumClassifi/audio/london_phill_dataset_multi/cello/cello_A4_1_mezzo-forte_arco-harmonic.mp3'\n",
            " './BasicsMusicalInstrumClassifi/audio/london_phill_dataset_multi/sax/saxophone_Gs3_05_pianissimo_normal.mp3'\n",
            " './BasicsMusicalInstrumClassifi/audio/london_phill_dataset_multi/sax/saxophone_Ds5_1_forte_major-trill.mp3'\n",
            " './BasicsMusicalInstrumClassifi/audio/london_phill_dataset_multi/viola/viola_A4_1_fortissimo_snap-pizz.mp3'\n",
            " './BasicsMusicalInstrumClassifi/audio/london_phill_dataset_multi/viola/viola_Gs3_025_mezzo-piano_arco-normal.mp3'\n",
            " './BasicsMusicalInstrumClassifi/audio/london_phill_dataset_multi/cello/cello_Gs4_025_mezzo-forte_arco-col-legno-battuto.mp3']\n"
          ],
          "name": "stdout"
        }
      ]
    },
    {
      "cell_type": "code",
      "metadata": {
        "id": "UBqsGQh3aQj9"
      },
      "source": [
        ""
      ],
      "execution_count": null,
      "outputs": []
    }
  ]
}